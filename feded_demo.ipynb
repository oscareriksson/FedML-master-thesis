{
 "cells": [
  {
   "cell_type": "markdown",
   "id": "a89743f4",
   "metadata": {},
   "source": [
    "## Imports"
   ]
  },
  {
   "cell_type": "code",
   "execution_count": 1,
   "id": "d014ab61",
   "metadata": {},
   "outputs": [],
   "source": [
    "import torch\n",
    "import torch.nn as nn\n",
    "import torch.nn.functional as F\n",
    "from torchvision.datasets import MNIST, CIFAR10, EMNIST\n",
    "from torch.utils.data import Subset, DataLoader, Dataset\n",
    "from torchvision.transforms import Compose, ToTensor, Normalize, Resize\n",
    "from torchvision.models import resnet18, vgg16\n",
    "import numpy as np\n",
    "from tqdm import tqdm\n",
    "import torch.optim as optim\n",
    "import copy\n",
    "from math import floor\n",
    "import matplotlib.pyplot as plt"
   ]
  },
  {
   "cell_type": "markdown",
   "id": "8d6bb5e6",
   "metadata": {},
   "source": [
    "## Settings"
   ]
  },
  {
   "cell_type": "code",
   "execution_count": 102,
   "id": "cf2e14fc",
   "metadata": {},
   "outputs": [],
   "source": [
    "train_fraction = 1.0\n",
    "n_clients = 5\n",
    "distribution = \"iid\"\n",
    "alpha = 0.1\n",
    "train_batch_size = 64\n",
    "test_batch_size = 64\n",
    "public_batch_size = 64\n",
    "public_fraction = 0.5\n",
    "n_epochs = 3"
   ]
  },
  {
   "cell_type": "code",
   "execution_count": 73,
   "id": "0daafd56",
   "metadata": {},
   "outputs": [],
   "source": [
    "dataset = EMNIST(\n",
    "    root='data', \n",
    "    train=True, \n",
    "    transform=ToTensor(), \n",
    "    download=True,\n",
    "    split='letters')\n",
    "\n",
    "# means = []\n",
    "# stds = []\n",
    "# for img, _ in dataset:\n",
    "#     means.append(torch.mean(img))\n",
    "#     stds.append(torch.std(img))\n",
    "\n",
    "# mean = torch.mean(torch.tensor(means))\n",
    "# std = torch.mean(torch.tensor(stds))"
   ]
  },
  {
   "cell_type": "code",
   "execution_count": 74,
   "id": "c6c9d399",
   "metadata": {},
   "outputs": [
    {
     "data": {
      "text/plain": [
       "26"
      ]
     },
     "execution_count": 74,
     "metadata": {},
     "output_type": "execute_result"
    }
   ],
   "source": [
    "n_classes = len(np.unique(dataset.targets))\n",
    "n_classes"
   ]
  },
  {
   "cell_type": "markdown",
   "id": "60ae914c",
   "metadata": {},
   "source": [
    "## Data loaders"
   ]
  },
  {
   "cell_type": "code",
   "execution_count": 98,
   "id": "cbe2b2b5",
   "metadata": {},
   "outputs": [
    {
     "name": "stdout",
     "output_type": "stream",
     "text": [
      "Train: 62400, Public: 62400\n"
     ]
    }
   ],
   "source": [
    "def split_train_public(public_fraction, transform):\n",
    "    \"\"\" \n",
    "    \"\"\"\n",
    "    train_data = EMNIST(\n",
    "        root='data', \n",
    "        train=True, \n",
    "        transform=transform, \n",
    "        download=True,\n",
    "        split='letters')\n",
    "\n",
    "    if not torch.is_tensor(train_data.targets):\n",
    "        train_data.targets = torch.tensor(train_data.targets)\n",
    "    train_data.targets = train_data.targets-1\n",
    "\n",
    "    idx_split = int(len(train_data) * public_fraction)\n",
    "    \n",
    "    print(f\"Train: {len(train_data)-idx_split}, Public: {idx_split}\")\n",
    "\n",
    "    return Subset(train_data, np.arange(idx_split)), Subset(train_data, np.arange(idx_split, len(train_data)))\n",
    "\n",
    "# Emnist\n",
    "transform = Compose([ToTensor(), Normalize((0.1722,), (0.3242,))])\n",
    "# transform = Compose([ToTensor(), Normalize((0.1307,), (0.3081,))])\n",
    "# transform = Compose([ToTensor(), Normalize((0.4914, 0.4822, 0.4465), (0.247, 0.243, 0.261))])\n",
    "# transform = Compose([ToTensor(), Normalize([0.485, 0.456, 0.406], [0.229, 0.224, 0.225])])\n",
    "train_data, public_data = split_train_public(public_fraction, transform)\n"
   ]
  },
  {
   "cell_type": "code",
   "execution_count": 99,
   "id": "fa90bd1e",
   "metadata": {},
   "outputs": [],
   "source": [
    "def generate_client_data(n_clients, distribution, alpha):\n",
    "    \"\"\" Generate iid client data or non-iid by sampling from Dirichlet distribution.\n",
    "\n",
    "        Parameters:\n",
    "        n_clients       (int): Number of clients.\n",
    "        distribution    (str): Indicator to sample iid or non-iid.\n",
    "        alpha           (float): Concentration parameter for Dirichlet distribution.\n",
    "    \"\"\"\n",
    "    labels = np.array([train_data[i][1] for i in range(len(train_data))])\n",
    "    n_classes = len(np.unique(labels))\n",
    "    partition_matrix = np.ones((n_classes, n_clients))\n",
    "\n",
    "    # iid: Sample from each class until no samples left.\n",
    "    if distribution == \"iid\":\n",
    "        partition_matrix /= n_clients\n",
    "        local_sets_indices = [np.array([], dtype=int) for _ in range(n_clients)]\n",
    "        clients_iter = np.arange(n_clients)\n",
    "\n",
    "        for i in range(n_classes):\n",
    "            class_indices = np.where(labels == i)[0]\n",
    "\n",
    "            clients_iter = clients_iter[::-1]\n",
    "            samples_left = True\n",
    "            while samples_left:\n",
    "                for j in clients_iter:\n",
    "                    if len(class_indices) == 0:\n",
    "                        samples_left = False\n",
    "                        break\n",
    "                    else:\n",
    "                        sample_idx = np.random.choice(len(class_indices))\n",
    "                        local_sets_indices[j] = np.append(local_sets_indices[j], train_data.indices[class_indices[sample_idx]])\n",
    "                        class_indices = np.delete(class_indices, sample_idx)\n",
    "\n",
    "    # non-iid: Sample from dirichlet distribution.\n",
    "    else:\n",
    "        class_indices = []\n",
    "        for i in range(n_classes):\n",
    "            class_indices.append(np.array(range(len(labels)))[labels == i])\n",
    "        valid_pm = False\n",
    "        while not valid_pm:\n",
    "            partition_matrix = np.random.dirichlet((alpha, )*n_clients, n_classes)\n",
    "            valid_pm = all(np.sum(partition_matrix, axis=0) > 0.01)\n",
    "\n",
    "        local_sets_indices = [[] for _ in range(n_clients)]\n",
    "        for each_class in range(n_classes):\n",
    "            sample_size = len(class_indices[each_class])\n",
    "            for client in range(n_clients):\n",
    "                np.random.shuffle(class_indices[each_class])\n",
    "                local_size = floor(partition_matrix[each_class, client] * sample_size)\n",
    "                local_sets_indices[client] += list(train_data.indices[class_indices[each_class][:local_size]])\n",
    "                class_indices[each_class] = class_indices[each_class][local_size:]\n",
    "    \n",
    "    return local_sets_indices\n",
    "\n",
    "\n",
    "local_sets_indices = generate_client_data(n_clients, distribution, alpha)\n",
    "\n",
    "\n",
    "def get_train_data_loaders(batch_size):\n",
    "    \"\"\" Get list of client training data loaders.\n",
    "\n",
    "        Parameters:\n",
    "        n_clients       (int): Number of clients.\n",
    "        distribution    (str): iid/non-iid distributed data.\n",
    "        alpha           (float): Concentration parameter for dirichlet distribution.\n",
    "        batch_size      (int): Batch size for loading training data.\n",
    "\n",
    "        Returns List[torch.utils.data.DataLoader]\n",
    "    \"\"\"\n",
    "    client_data_loaders = []\n",
    "    for client_indices in local_sets_indices:\n",
    "            np.random.shuffle(client_indices)\n",
    "            client_data_loaders.append(DataLoader(Subset(train_data.dataset, client_indices), batch_size))\n",
    "    return client_data_loaders\n",
    "\n",
    "client_data_loaders = get_train_data_loaders(train_batch_size)\n"
   ]
  },
  {
   "cell_type": "code",
   "execution_count": 12,
   "id": "629ec618",
   "metadata": {},
   "outputs": [
    {
     "data": {
      "text/plain": [
       "24000"
      ]
     },
     "execution_count": 12,
     "metadata": {},
     "output_type": "execute_result"
    }
   ],
   "source": [
    "len(client_data_loaders[0].dataset)"
   ]
  },
  {
   "cell_type": "code",
   "execution_count": 100,
   "id": "24718b9e",
   "metadata": {},
   "outputs": [
    {
     "data": {
      "image/png": "[encoded data removed]",
      "text/plain": [
       "<Figure size 936x1296 with 5 Axes>"
      ]
     },
     "metadata": {
      "needs_background": "light"
     },
     "output_type": "display_data"
    }
   ],
   "source": [
    "import matplotlib.pyplot as plt\n",
    "import seaborn as sns\n",
    "dataset = EMNIST(root='data', transform=transform, train=True, split='letters')\n",
    "#dataset.targets = torch.tensor(dataset.targets)\n",
    "client_targets = [dataset.targets[indices].tolist() for indices in local_sets_indices]\n",
    "n_clients = len(client_targets)\n",
    "\n",
    "fig, ax = plt.subplots(n_clients, figsize=(13,18))\n",
    "for i in range(n_clients):\n",
    "    sns.histplot(client_targets[i], ax=ax[i])\n",
    "    ax[i].set_title(\"Client {}\".format(i))\n",
    "    ax[i].set_xlim([0,27])"
   ]
  },
  {
   "cell_type": "code",
   "execution_count": 86,
   "id": "314392ce",
   "metadata": {},
   "outputs": [],
   "source": [
    "test_data = EMNIST(\n",
    "    root='data', \n",
    "    train=False, \n",
    "    transform=transform, \n",
    "    download=True,\n",
    "    split='letters')\n",
    "test_data.targets = test_data.targets-1\n",
    "\n",
    "test_data_loader = DataLoader(test_data, test_batch_size)\n",
    "public_data_loader = DataLoader(public_data, public_batch_size)"
   ]
  },
  {
   "cell_type": "code",
   "execution_count": 65,
   "id": "89e7f242",
   "metadata": {},
   "outputs": [
    {
     "data": {
      "text/plain": [
       "20800"
      ]
     },
     "execution_count": 65,
     "metadata": {},
     "output_type": "execute_result"
    }
   ],
   "source": [
    "len(test_data)"
   ]
  },
  {
   "cell_type": "code",
   "execution_count": 87,
   "id": "123688e9",
   "metadata": {},
   "outputs": [
    {
     "data": {
      "text/plain": [
       "(0.0, 27.0)"
      ]
     },
     "execution_count": 87,
     "metadata": {},
     "output_type": "execute_result"
    },
    {
     "data": {
      "image/png": "[encoded data removed]",
      "text/plain": [
       "<Figure size 936x1296 with 2 Axes>"
      ]
     },
     "metadata": {
      "needs_background": "light"
     },
     "output_type": "display_data"
    }
   ],
   "source": [
    "public_targets = public_data.dataset.targets[public_data.indices].tolist()\n",
    "test_targets = test_data.targets.tolist()\n",
    "\n",
    "fig, ax = plt.subplots(2, figsize=(13,18))\n",
    "\n",
    "sns.histplot(public_targets, ax=ax[0])\n",
    "ax[0].set_title(\"Public data\")\n",
    "ax[0].set_xlim([0,27])\n",
    "\n",
    "sns.histplot(test_targets, ax=ax[1])\n",
    "ax[1].set_title(\"Test data\")\n",
    "ax[1].set_xlim([0,27])"
   ]
  },
  {
   "cell_type": "markdown",
   "id": "9a2b319b",
   "metadata": {},
   "source": [
    "## Models"
   ]
  },
  {
   "cell_type": "code",
   "execution_count": 25,
   "id": "393bf38d",
   "metadata": {},
   "outputs": [],
   "source": [
    "class Mnist_Cnn(nn.Module):\n",
    "    def __init__(self):\n",
    "        super(Mnist_Cnn, self).__init__()\n",
    "        self.conv1 = nn.Conv2d(1, 2, 5, 1, 2)\n",
    "        self.pool = nn.MaxPool2d(4)\n",
    "        self.fc1 = nn.Linear(2 * 7 * 7, 10)\n",
    "\n",
    "    def forward(self, x):\n",
    "        x = self.pool(F.relu(self.conv1(x)))\n",
    "        x = torch.flatten(x, 1)\n",
    "        x = self.fc1(x)\n",
    "        return x\n",
    "    \n",
    "class Mnist_Student(nn.Module):\n",
    "    def __init__(self):\n",
    "        super(Mnist_Student, self).__init__()\n",
    "        self.conv1 = nn.Conv2d(1, 16, 5, 1, 2)\n",
    "        self.pool1 = nn.MaxPool2d(2)\n",
    "        self.conv2 = nn.Conv2d(16, 32, 5, 1, 2)\n",
    "        self.pool2 = nn.MaxPool2d(2)\n",
    "        self.fc1 = nn.Linear(32 * 7 * 7, 10)\n",
    "\n",
    "    def forward(self, x):\n",
    "        x = self.pool1(F.relu(self.conv1(x)))\n",
    "        x = self.pool2(F.relu(self.conv2(x)))\n",
    "        x = torch.flatten(x, 1)\n",
    "        x = self.fc1(x)\n",
    "        return x"
   ]
  },
  {
   "cell_type": "code",
   "execution_count": 41,
   "id": "f9281c30",
   "metadata": {},
   "outputs": [],
   "source": [
    "class Emnist_Cnn(nn.Module):\n",
    "    def __init__(self):\n",
    "        super(Emnist_Cnn, self).__init__()\n",
    "        self.conv1 = nn.Conv2d(1, 2, 5, 1, 2)\n",
    "        self.pool = nn.MaxPool2d(4)\n",
    "        self.fc1 = nn.Linear(2 * 7 * 7, 26)\n",
    "\n",
    "    def forward(self, x):\n",
    "        x = self.pool(F.relu(self.conv1(x)))\n",
    "        x = torch.flatten(x, 1)\n",
    "        x = self.fc1(x)\n",
    "        return x\n",
    "    \n",
    "class Emnist_Student(nn.Module):\n",
    "    def __init__(self):\n",
    "        super(Emnist_Student, self).__init__()\n",
    "        self.conv1 = nn.Conv2d(1, 16, 5, 1, 2)\n",
    "        self.pool1 = nn.MaxPool2d(2)\n",
    "        self.conv2 = nn.Conv2d(16, 32, 5, 1, 2)\n",
    "        self.pool2 = nn.MaxPool2d(2)\n",
    "        self.fc1 = nn.Linear(32 * 7 * 7, 26)\n",
    "\n",
    "    def forward(self, x):\n",
    "        x = self.pool1(F.relu(self.conv1(x)))\n",
    "        x = self.pool2(F.relu(self.conv2(x)))\n",
    "        x = torch.flatten(x, 1)\n",
    "        x = self.fc1(x)\n",
    "        return x"
   ]
  },
  {
   "cell_type": "code",
   "execution_count": 57,
   "id": "a556ce4a",
   "metadata": {},
   "outputs": [],
   "source": [
    "class Cifar10_Cnn(nn.Module):\n",
    "    def __init__(self):\n",
    "        super(Cifar10_Cnn, self).__init__()\n",
    "        base = vgg16(pretrained=False)\n",
    "        self.base = nn.Sequential(*list(base.children())[:-1])\n",
    "        in_features = base.classifier[0].in_features\n",
    "        self.drop = nn.Dropout()\n",
    "        self.final = nn.Linear(in_features,10)\n",
    "    \n",
    "    def forward(self,x):\n",
    "        x = self.base(x)\n",
    "        x = self.drop(x.view(-1,self.final.in_features))\n",
    "        return self.final(x)\n",
    "    \n",
    "class Cifar10_Student(nn.Module):\n",
    "    def __init__(self):\n",
    "        super(Cifar10_Student, self).__init__()\n",
    "        self.conv1 = nn.Conv2d(3, 32, 5)\n",
    "        self.pool1 = nn.MaxPool2d(2)\n",
    "        self.conv2 = nn.Conv2d(32, 64, 5)\n",
    "        self.pool2 = nn.MaxPool2d(2)\n",
    "        self.fc1 = nn.Linear(64 * 5 * 5, 128)\n",
    "        self.fc2 = nn.Linear(128, 64)\n",
    "        self.fc3 = nn.Linear(64, 10)\n",
    "\n",
    "    def forward(self, x):\n",
    "        x = self.pool1(F.relu(self.conv1(x)))\n",
    "        x = self.pool2(F.relu(self.conv2(x)))\n",
    "        x = torch.flatten(x, 1)\n",
    "        x = F.relu(self.fc1(x))\n",
    "        x = F.relu(self.fc2(x))\n",
    "        x = self.fc3(x)\n",
    "        return x"
   ]
  },
  {
   "cell_type": "markdown",
   "id": "275f6618",
   "metadata": {},
   "source": [
    "## Training clients"
   ]
  },
  {
   "cell_type": "code",
   "execution_count": 90,
   "id": "070b90c8",
   "metadata": {},
   "outputs": [
    {
     "data": {
      "text/plain": [
       "tensor([[472, 479, 478, 485, 477, 476, 477, 484, 474, 485, 474, 482, 480, 475,\n",
       "         484, 481, 481, 482, 475, 480, 484, 491, 484, 482, 480, 478],\n",
       "        [472, 479, 478, 485, 477, 476, 477, 484, 474, 484, 475, 482, 480, 474,\n",
       "         485, 481, 482, 482, 476, 480, 484, 491, 484, 482, 480, 477],\n",
       "        [472, 479, 478, 485, 478, 476, 477, 484, 474, 484, 475, 482, 481, 474,\n",
       "         485, 480, 482, 481, 476, 480, 484, 490, 485, 482, 480, 477],\n",
       "        [472, 479, 479, 484, 478, 475, 477, 484, 475, 484, 475, 481, 481, 474,\n",
       "         485, 480, 482, 481, 476, 479, 484, 490, 485, 481, 480, 477],\n",
       "        [472, 479, 479, 484, 478, 475, 478, 484, 475, 484, 475, 481, 481, 474,\n",
       "         485, 480, 482, 481, 476, 479, 484, 490, 485, 481, 481, 477]])"
      ]
     },
     "execution_count": 90,
     "metadata": {},
     "output_type": "execute_result"
    }
   ],
   "source": [
    "local_indices = [client_data_loaders[i].dataset.indices for i in range(n_clients)]\n",
    "label_count_matrix = torch.tensor([[torch.sum(client_data_loaders[0].dataset.dataset.targets[local_indices[i]] == c) for c in range(n_classes)] for i in range(n_clients)])\n",
    "label_count_matrix\n"
   ]
  },
  {
   "cell_type": "code",
   "execution_count": 91,
   "id": "86533442",
   "metadata": {},
   "outputs": [],
   "source": [
    "def evaluate(model, data_loader, loss_function):\n",
    "    model.eval()\n",
    "    loss = []\n",
    "    correct = 0\n",
    "    with torch.no_grad():\n",
    "        for x, y in data_loader:\n",
    "            output = model(x)\n",
    "            error = loss_function(output, y)\n",
    "            loss.append(error.item())\n",
    "            _, pred = torch.max(output.data, 1)\n",
    "            correct += (pred == y).sum().item()\n",
    "    avg_loss = sum(loss) / len(loss)\n",
    "    accuracy = 100. * correct / len(data_loader.dataset)\n",
    "\n",
    "    return accuracy, avg_loss"
   ]
  },
  {
   "cell_type": "code",
   "execution_count": 92,
   "id": "e57ca573",
   "metadata": {},
   "outputs": [
    {
     "name": "stdout",
     "output_type": "stream",
     "text": [
      "Starting training\n",
      "Client 1/5: Epoch 3/3: Train accuracy: 0.56: Train loss: 1.474\n",
      "\n",
      "Client 2/5: Epoch 3/3: Train accuracy: 0.56: Train loss: 1.482\n",
      "\n",
      "Client 3/5: Epoch 3/3: Train accuracy: 0.56: Train loss: 1.482\n",
      "\n",
      "Client 4/5: Epoch 3/3: Train accuracy: 0.57: Train loss: 1.495\n",
      "\n",
      "Client 5/5: Epoch 3/3: Train accuracy: 0.55: Train loss: 1.502\n",
      "\n"
     ]
    }
   ],
   "source": [
    "local_model = Emnist_Cnn()\n",
    "loss_function = nn.CrossEntropyLoss()\n",
    "\n",
    "logits_ensemble = []\n",
    "\n",
    "print(\"Starting training\")\n",
    "\n",
    "for i in range(n_clients):\n",
    "    model = copy.deepcopy(local_model)\n",
    "    optimizer = optim.SGD(model.parameters(), lr=0.001, momentum=0.9)\n",
    "    \n",
    "    for epoch in range(n_epochs):\n",
    "        train_loss = []\n",
    "        correct = 0\n",
    "        model.train()\n",
    "        for x, y in client_data_loaders[i]:\n",
    "            optimizer.zero_grad()\n",
    "            output = model(x)\n",
    "            error = loss_function(output, y)\n",
    "            error.backward()\n",
    "            optimizer.step()\n",
    "            \n",
    "            train_loss.append(error.item())\n",
    "            _, pred = torch.max(output.data, 1)\n",
    "            correct += (pred == y).sum().item()\n",
    "        print(f\"Client {i+1}/{n_clients}: \"\n",
    "              f\"Epoch {epoch+1}/{n_epochs}: \"\n",
    "              f\"Train accuracy: {correct/len(client_data_loaders[i].dataset):.2f}: \"\n",
    "              f\"Train loss: {sum(train_loss)/len(train_loss):.3f}\", end=\"\\r\")\n",
    "    print(\"\\n\")\n",
    "    \n",
    "    model.eval()\n",
    "    logits_local = None\n",
    "    with torch.no_grad():\n",
    "        for x, _ in public_data_loader:\n",
    "            if logits_local is None:\n",
    "                logits_local = F.softmax(model(x), dim=1)\n",
    "            else:\n",
    "                logits_local = torch.cat((logits_local, F.softmax(model(x), dim=1)))\n",
    "        \n",
    "    # Increment average\n",
    "    logits_ensemble.append(logits_local)"
   ]
  },
  {
   "cell_type": "markdown",
   "id": "bd10836e",
   "metadata": {},
   "source": [
    "## Training student"
   ]
  },
  {
   "cell_type": "code",
   "execution_count": 93,
   "id": "1df3b61c",
   "metadata": {},
   "outputs": [],
   "source": [
    "class StudentData(Dataset):\n",
    "    def __init__(self, dataset):\n",
    "        \n",
    "        self.dataset = dataset\n",
    "            \n",
    "    def __getitem__(self, index):\n",
    "        if isinstance(index, list):\n",
    "            data, _ = self.dataset[[i for i in index]]\n",
    "        else:\n",
    "            data, _ = self.dataset[index]\n",
    "            \n",
    "        return data, index\n",
    "        \n",
    "    \n",
    "    def __len__(self):\n",
    "        \"\"\"Total number of samples\"\"\"\n",
    "        return len(self.dataset)"
   ]
  },
  {
   "cell_type": "code",
   "execution_count": 94,
   "id": "83e63493",
   "metadata": {},
   "outputs": [
    {
     "data": {
      "text/plain": [
       "[tensor([[1.1170e-02, 1.0211e-04, 5.1688e-02, 9.1325e-05, 2.2170e-02, 6.6793e-03,\n",
       "          1.5590e-03, 2.6207e-04, 3.7554e-03, 9.9320e-04, 5.5561e-03, 2.1069e-03,\n",
       "          1.3521e-03, 2.5576e-02, 5.6776e-03, 1.4355e-02, 3.5133e-03, 3.7771e-01,\n",
       "          1.3026e-03, 3.7339e-01, 8.3850e-04, 5.2226e-03, 1.5034e-02, 3.9961e-02,\n",
       "          1.2004e-02, 1.7933e-02],\n",
       "         [4.1604e-03, 2.4555e-02, 2.8775e-05, 1.0691e-03, 1.0607e-03, 9.0334e-04,\n",
       "          4.3738e-04, 4.4377e-01, 5.9317e-04, 4.7429e-06, 3.1275e-01, 2.2289e-03,\n",
       "          2.4471e-04, 2.7765e-03, 2.6432e-05, 2.8209e-04, 1.1850e-04, 2.5470e-03,\n",
       "          5.2685e-05, 3.9024e-03, 1.0393e-03, 1.5639e-03, 5.4529e-04, 1.7684e-01,\n",
       "          1.1136e-03, 1.7381e-02],\n",
       "         [4.4775e-02, 2.3828e-03, 2.1694e-04, 3.7343e-03, 3.7857e-03, 2.1067e-02,\n",
       "          5.5010e-04, 1.5422e-02, 1.3190e-04, 9.0940e-05, 4.3062e-02, 2.8939e-05,\n",
       "          4.0464e-03, 7.7630e-01, 1.7628e-03, 5.6768e-03, 1.9626e-04, 7.6059e-03,\n",
       "          6.0945e-04, 3.5253e-03, 2.2997e-03, 3.0972e-03, 4.8937e-02, 6.6767e-03,\n",
       "          3.8507e-04, 3.6326e-03],\n",
       "         [1.9797e-01, 1.1110e-02, 1.6025e-03, 4.0464e-02, 2.6439e-02, 2.6829e-04,\n",
       "          3.2387e-02, 5.0680e-04, 1.9771e-04, 2.6009e-03, 1.9804e-03, 6.8644e-05,\n",
       "          1.0648e-02, 2.8958e-01, 3.0204e-01, 7.9238e-06, 4.8002e-03, 2.3941e-03,\n",
       "          1.5513e-02, 3.8899e-04, 3.7250e-02, 3.2413e-04, 1.0583e-02, 4.0642e-04,\n",
       "          3.8561e-05, 1.0434e-02]]),\n",
       " tensor([[8.8862e-03, 1.2947e-04, 9.6740e-02, 8.5089e-05, 3.0962e-02, 7.4415e-03,\n",
       "          1.9738e-03, 2.2025e-04, 4.1180e-03, 9.7153e-04, 5.5973e-03, 1.5448e-03,\n",
       "          2.6704e-03, 1.3233e-02, 1.1139e-02, 1.5037e-02, 4.7595e-03, 3.4099e-01,\n",
       "          1.9590e-03, 3.7555e-01, 7.6336e-04, 2.2111e-03, 1.5826e-02, 2.6555e-02,\n",
       "          1.2180e-02, 1.8459e-02],\n",
       "         [5.8204e-03, 4.3703e-02, 7.6829e-05, 1.4099e-03, 2.8041e-03, 1.6678e-03,\n",
       "          4.2558e-04, 5.6290e-01, 9.3072e-04, 4.6912e-06, 2.2808e-01, 2.1586e-03,\n",
       "          5.1504e-04, 1.4170e-03, 3.9212e-05, 4.6210e-04, 9.7892e-05, 6.8030e-03,\n",
       "          7.2065e-05, 2.2319e-03, 1.1204e-03, 1.3340e-03, 9.0034e-04, 1.2127e-01,\n",
       "          1.8181e-03, 1.1941e-02],\n",
       "         [3.7037e-02, 5.0000e-03, 4.9354e-04, 5.0636e-03, 7.3463e-03, 5.1710e-02,\n",
       "          1.0050e-03, 1.4033e-02, 2.3975e-04, 1.4457e-04, 5.4677e-02, 1.8596e-05,\n",
       "          1.5148e-02, 6.5920e-01, 8.2743e-03, 9.7620e-03, 6.2146e-04, 2.2758e-02,\n",
       "          9.8508e-04, 3.3891e-03, 2.8860e-03, 1.0914e-03, 8.4153e-02, 9.8854e-03,\n",
       "          1.2069e-03, 3.8655e-03],\n",
       "         [4.5753e-02, 1.0332e-02, 2.6030e-03, 1.1808e-02, 3.4581e-02, 1.7072e-04,\n",
       "          1.0830e-02, 1.7538e-04, 1.0942e-04, 1.0388e-03, 7.5562e-04, 3.3142e-05,\n",
       "          1.4088e-02, 6.5339e-02, 7.5051e-01, 1.9519e-06, 2.9795e-03, 1.5182e-03,\n",
       "          1.4783e-02, 1.0289e-04, 1.8537e-02, 5.4558e-05, 1.0765e-02, 2.1478e-04,\n",
       "          5.0272e-05, 2.8657e-03]])]"
      ]
     },
     "execution_count": 94,
     "metadata": {},
     "output_type": "execute_result"
    }
   ],
   "source": [
    "student_data = StudentData(public_data)\n",
    "public_loader = DataLoader(student_data, 4, shuffle=True)\n",
    "x, idx = next(iter(public_loader))\n",
    "\n",
    "clients = np.random.choice(np.arange(n_clients), int(0.4 * n_clients), replace=False)\n",
    "chosen_logits = [logits_ensemble[c][idx] for c in clients]\n",
    "chosen_logits"
   ]
  },
  {
   "cell_type": "code",
   "execution_count": 116,
   "id": "4f51af6b",
   "metadata": {},
   "outputs": [
    {
     "data": {
      "text/plain": [
       "<torch.utils.data.dataset.Subset at 0x7f1136106eb0>"
      ]
     },
     "execution_count": 116,
     "metadata": {},
     "output_type": "execute_result"
    }
   ],
   "source": [
    "public_data_loader.dataset"
   ]
  },
  {
   "cell_type": "code",
   "execution_count": 96,
   "id": "53590c36",
   "metadata": {},
   "outputs": [
    {
     "name": "stdout",
     "output_type": "stream",
     "text": [
      "Distillation step 1/1: Train accuracy: 65.54: Train loss: 2.961\r\n",
      "\n"
     ]
    }
   ],
   "source": [
    "def evaluate(model, data_loader, loss_function):\n",
    "    model.eval()\n",
    "    loss = []\n",
    "    correct = 0\n",
    "    with torch.no_grad():\n",
    "        for x, y in data_loader:\n",
    "            output = model(x)\n",
    "            error = loss_function(output, y)\n",
    "            loss.append(error.item())\n",
    "            _, pred = torch.max(output.data, 1)\n",
    "            correct += (pred == y).sum().item()\n",
    "    avg_loss = sum(loss) / len(loss)\n",
    "    accuracy = 100. * correct / len(data_loader.dataset)\n",
    "\n",
    "    return accuracy, avg_loss\n",
    "\n",
    "T = 1\n",
    "gamma = 0.4\n",
    "student_batch_size = 50\n",
    "\n",
    "student_data = StudentData(public_data)\n",
    "student_loader = DataLoader(student_data, student_batch_size, shuffle=True)\n",
    "\n",
    "model = Emnist_Student()\n",
    "loss_function = nn.MSELoss()\n",
    "optimizer = optim.Adam(model.parameters(), lr=0.001)\n",
    "\n",
    "for t in range(T):\n",
    "    model.train()\n",
    "    for x, idx in student_loader:\n",
    "        clients = np.random.choice(np.arange(n_clients), int(0.4 * n_clients), replace=False)\n",
    "        merged_logits = torch.zeros(student_batch_size, len(classes))\n",
    "    \n",
    "        for c in clients:\n",
    "            merged_logits += logits_ensemble[c][idx] * torch.sum(label_count_matrix[c]) / torch.sum(torch.sum(label_count_matrix[clients]))\n",
    "        \n",
    "        optimizer.zero_grad()\n",
    "        output = model(x)\n",
    "        error = loss_function(output, merged_logits)\n",
    "        error.backward()\n",
    "        optimizer.step()\n",
    "        \n",
    "    train_acc, train_loss = evaluate(model, public_data_loader, nn.CrossEntropyLoss())\n",
    "    print(f\"Distillation step {t+1}/{T}: \"\n",
    "          f\"Train accuracy: {train_acc:.2f}: \"\n",
    "          f\"Train loss: {train_loss:.3f}\", end=\"\\r\")\n",
    "print(\"\\n\")"
   ]
  },
  {
   "cell_type": "code",
   "execution_count": 59,
   "id": "e19ad29e",
   "metadata": {},
   "outputs": [],
   "source": [
    "student_targets = torch.zeros(len(test_data.dataset), 10)\n",
    "for i in range(n_samples_public):\n",
    "    idx_public = public_data.indices[i]\n",
    "    student_targets[idx_public] = logits_ensemble[i]"
   ]
  },
  {
   "cell_type": "code",
   "execution_count": 60,
   "id": "0a92edc2",
   "metadata": {},
   "outputs": [
    {
     "data": {
      "text/plain": [
       "[tensor([[[[-0.4242, -0.4242, -0.4242,  ..., -0.4242, -0.4242, -0.4242],\n",
       "           [-0.4242, -0.4242, -0.4242,  ..., -0.4242, -0.4242, -0.4242],\n",
       "           [-0.4242, -0.4242, -0.4242,  ..., -0.4242, -0.4242, -0.4242],\n",
       "           ...,\n",
       "           [-0.4242, -0.4242, -0.4242,  ..., -0.4242, -0.4242, -0.4242],\n",
       "           [-0.4242, -0.4242, -0.4242,  ..., -0.4242, -0.4242, -0.4242],\n",
       "           [-0.4242, -0.4242, -0.4242,  ..., -0.4242, -0.4242, -0.4242]]],\n",
       " \n",
       " \n",
       "         [[[-0.4242, -0.4242, -0.4242,  ..., -0.4242, -0.4242, -0.4242],\n",
       "           [-0.4242, -0.4242, -0.4242,  ..., -0.4242, -0.4242, -0.4242],\n",
       "           [-0.4242, -0.4242, -0.4242,  ..., -0.4242, -0.4242, -0.4242],\n",
       "           ...,\n",
       "           [-0.4242, -0.4242, -0.4242,  ..., -0.4242, -0.4242, -0.4242],\n",
       "           [-0.4242, -0.4242, -0.4242,  ..., -0.4242, -0.4242, -0.4242],\n",
       "           [-0.4242, -0.4242, -0.4242,  ..., -0.4242, -0.4242, -0.4242]]],\n",
       " \n",
       " \n",
       "         [[[-0.4242, -0.4242, -0.4242,  ..., -0.4242, -0.4242, -0.4242],\n",
       "           [-0.4242, -0.4242, -0.4242,  ..., -0.4242, -0.4242, -0.4242],\n",
       "           [-0.4242, -0.4242, -0.4242,  ..., -0.4242, -0.4242, -0.4242],\n",
       "           ...,\n",
       "           [-0.4242, -0.4242, -0.4242,  ..., -0.4242, -0.4242, -0.4242],\n",
       "           [-0.4242, -0.4242, -0.4242,  ..., -0.4242, -0.4242, -0.4242],\n",
       "           [-0.4242, -0.4242, -0.4242,  ..., -0.4242, -0.4242, -0.4242]]],\n",
       " \n",
       " \n",
       "         ...,\n",
       " \n",
       " \n",
       "         [[[-0.4242, -0.4242, -0.4242,  ..., -0.4242, -0.4242, -0.4242],\n",
       "           [-0.4242, -0.4242, -0.4242,  ..., -0.4242, -0.4242, -0.4242],\n",
       "           [-0.4242, -0.4242, -0.4242,  ..., -0.4242, -0.4242, -0.4242],\n",
       "           ...,\n",
       "           [-0.4242, -0.4242, -0.4242,  ..., -0.4242, -0.4242, -0.4242],\n",
       "           [-0.4242, -0.4242, -0.4242,  ..., -0.4242, -0.4242, -0.4242],\n",
       "           [-0.4242, -0.4242, -0.4242,  ..., -0.4242, -0.4242, -0.4242]]],\n",
       " \n",
       " \n",
       "         [[[-0.4242, -0.4242, -0.4242,  ..., -0.4242, -0.4242, -0.4242],\n",
       "           [-0.4242, -0.4242, -0.4242,  ..., -0.4242, -0.4242, -0.4242],\n",
       "           [-0.4242, -0.4242, -0.4242,  ..., -0.4242, -0.4242, -0.4242],\n",
       "           ...,\n",
       "           [-0.4242, -0.4242, -0.4242,  ..., -0.4242, -0.4242, -0.4242],\n",
       "           [-0.4242, -0.4242, -0.4242,  ..., -0.4242, -0.4242, -0.4242],\n",
       "           [-0.4242, -0.4242, -0.4242,  ..., -0.4242, -0.4242, -0.4242]]],\n",
       " \n",
       " \n",
       "         [[[-0.4242, -0.4242, -0.4242,  ..., -0.4242, -0.4242, -0.4242],\n",
       "           [-0.4242, -0.4242, -0.4242,  ..., -0.4242, -0.4242, -0.4242],\n",
       "           [-0.4242, -0.4242, -0.4242,  ..., -0.4242, -0.4242, -0.4242],\n",
       "           ...,\n",
       "           [-0.4242, -0.4242, -0.4242,  ..., -0.4242, -0.4242, -0.4242],\n",
       "           [-0.4242, -0.4242, -0.4242,  ..., -0.4242, -0.4242, -0.4242],\n",
       "           [-0.4242, -0.4242, -0.4242,  ..., -0.4242, -0.4242, -0.4242]]]]),\n",
       " tensor([[6.7415e-02, 1.4137e-02, 1.1267e-02, 2.9650e-01, 7.2330e-03, 8.4923e-03,\n",
       "          6.7574e-05, 5.9306e-01, 6.7551e-04, 1.1576e-03],\n",
       "         [8.2924e-03, 2.1097e-03, 5.6449e-01, 7.5131e-02, 3.5165e-05, 1.8592e-01,\n",
       "          2.5400e-02, 2.3922e-04, 1.3830e-01, 8.6671e-05],\n",
       "         [2.7414e-03, 7.6165e-01, 9.1837e-03, 1.7633e-02, 1.2201e-03, 1.1492e-02,\n",
       "          1.9321e-03, 5.9989e-02, 1.3374e-01, 4.2283e-04],\n",
       "         [5.2395e-01, 1.3840e-05, 4.2969e-02, 5.6523e-03, 9.7816e-06, 6.9003e-02,\n",
       "          3.1193e-01, 1.0553e-02, 3.2955e-02, 2.9605e-03],\n",
       "         [1.4548e-02, 1.5297e-04, 8.6320e-02, 1.2438e-02, 3.1230e-01, 1.1710e-02,\n",
       "          1.1638e-02, 3.0937e-02, 1.7802e-01, 3.4194e-01],\n",
       "         [6.4252e-04, 7.7701e-01, 3.3585e-03, 6.3156e-03, 3.1993e-04, 8.5231e-03,\n",
       "          2.6818e-04, 8.9723e-02, 1.1349e-01, 3.4800e-04],\n",
       "         [1.2971e-02, 2.7044e-03, 4.0709e-02, 3.1246e-02, 3.1329e-01, 1.7303e-02,\n",
       "          8.7374e-04, 4.0953e-01, 2.6620e-02, 1.4476e-01],\n",
       "         [1.8540e-03, 3.9590e-03, 4.9916e-02, 8.3786e-02, 2.8024e-01, 2.5671e-02,\n",
       "          5.2045e-03, 5.5190e-03, 1.8049e-01, 3.6336e-01],\n",
       "         [1.0534e-01, 1.0567e-03, 6.1063e-02, 2.6166e-02, 2.3079e-01, 1.8324e-01,\n",
       "          3.4976e-01, 1.8117e-03, 4.0556e-02, 2.1431e-04],\n",
       "         [9.7942e-02, 7.4142e-03, 3.6725e-03, 1.2197e-02, 2.8594e-01, 8.9991e-03,\n",
       "          3.4954e-04, 2.6957e-01, 6.8092e-03, 3.0710e-01],\n",
       "         [4.9247e-01, 3.0294e-06, 2.7598e-02, 4.5535e-03, 6.2311e-05, 2.8278e-01,\n",
       "          1.9737e-02, 3.6509e-04, 1.7226e-01, 1.7954e-04],\n",
       "         [8.9687e-02, 1.0709e-04, 2.8707e-01, 2.1473e-02, 1.5528e-02, 2.1767e-02,\n",
       "          3.7107e-01, 1.1826e-03, 1.9206e-01, 6.1261e-05],\n",
       "         [1.2221e-02, 1.2525e-02, 1.9638e-02, 5.8109e-02, 3.1188e-01, 3.0153e-02,\n",
       "          2.9920e-03, 1.2919e-01, 5.5686e-02, 3.6761e-01],\n",
       "         [5.7158e-01, 7.7171e-06, 2.2101e-02, 4.6120e-03, 2.4647e-05, 2.4589e-01,\n",
       "          3.3480e-02, 6.9366e-04, 7.9806e-02, 4.1800e-02],\n",
       "         [1.1289e-03, 7.6787e-01, 3.9985e-03, 2.8892e-02, 2.5101e-04, 4.5967e-02,\n",
       "          2.4528e-03, 1.8495e-02, 1.3035e-01, 5.9587e-04],\n",
       "         [4.9731e-02, 3.0450e-04, 1.4445e-02, 3.5261e-01, 3.0329e-04, 5.5539e-01,\n",
       "          3.0626e-03, 3.6575e-03, 1.9162e-02, 1.3322e-03],\n",
       "         [1.4154e-02, 2.6199e-04, 5.6074e-02, 2.9976e-02, 3.1209e-01, 1.0943e-02,\n",
       "          1.7819e-03, 6.8263e-02, 1.3428e-01, 3.7217e-01],\n",
       "         [3.8144e-02, 3.7275e-03, 9.8781e-03, 3.4769e-01, 1.6973e-03, 8.4808e-03,\n",
       "          2.4921e-05, 5.8913e-01, 3.7732e-04, 8.5649e-04],\n",
       "         [4.5933e-03, 1.4770e-03, 2.0174e-01, 3.0381e-01, 2.6418e-03, 1.0352e-01,\n",
       "          1.8546e-01, 7.8399e-03, 1.8497e-01, 3.9359e-03],\n",
       "         [9.3621e-03, 2.7443e-03, 2.4447e-02, 7.3259e-02, 3.1319e-01, 1.2178e-02,\n",
       "          1.1172e-02, 3.6090e-02, 1.5353e-01, 3.6402e-01],\n",
       "         [2.8882e-02, 3.2309e-02, 9.2580e-04, 8.3585e-02, 2.6654e-01, 1.7895e-02,\n",
       "          7.7652e-05, 2.2677e-01, 5.0427e-03, 3.3798e-01],\n",
       "         [8.5858e-02, 1.9722e-04, 9.5298e-02, 1.6998e-01, 7.0317e-02, 1.1289e-01,\n",
       "          3.6519e-01, 1.1188e-03, 9.8598e-02, 5.5159e-04],\n",
       "         [6.0054e-03, 2.1922e-04, 9.2547e-02, 4.2101e-03, 3.0977e-01, 1.3449e-02,\n",
       "          3.7436e-01, 4.2484e-02, 1.5592e-01, 1.0365e-03],\n",
       "         [8.4429e-02, 2.5392e-03, 2.7099e-03, 3.2063e-01, 3.9270e-03, 5.7703e-01,\n",
       "          2.1694e-03, 6.7563e-04, 5.4311e-03, 4.5297e-04],\n",
       "         [1.2099e-02, 2.5475e-03, 6.9902e-02, 3.9351e-02, 3.1116e-01, 1.5747e-02,\n",
       "          8.4559e-03, 1.4210e-01, 3.5917e-02, 3.6272e-01],\n",
       "         [5.1249e-01, 2.8288e-06, 1.8696e-02, 2.3579e-03, 1.5824e-05, 1.2145e-01,\n",
       "          2.6423e-01, 1.1593e-03, 7.9363e-02, 2.3473e-04],\n",
       "         [4.2084e-02, 5.4570e-03, 5.2321e-03, 1.2051e-01, 2.2916e-01, 7.1360e-03,\n",
       "          1.1451e-03, 5.5756e-01, 1.4698e-03, 3.0246e-02],\n",
       "         [1.6944e-02, 1.0906e-03, 4.3920e-02, 5.5062e-02, 3.1239e-01, 2.6898e-02,\n",
       "          5.4899e-03, 6.1655e-02, 1.0172e-01, 3.7483e-01],\n",
       "         [4.7699e-01, 9.9724e-05, 3.2392e-02, 4.4378e-02, 1.1015e-04, 3.1558e-01,\n",
       "          4.8795e-03, 6.4197e-03, 1.1347e-01, 5.6806e-03],\n",
       "         [1.9404e-03, 7.1879e-01, 1.6703e-02, 4.8715e-02, 9.4459e-04, 6.7294e-02,\n",
       "          3.6616e-03, 2.3361e-02, 1.1598e-01, 2.6125e-03],\n",
       "         [1.0164e-03, 7.5698e-04, 1.6320e-03, 4.3987e-01, 3.6398e-05, 4.3340e-01,\n",
       "          4.2640e-04, 8.9113e-02, 1.3209e-02, 2.0536e-02],\n",
       "         [1.8427e-03, 7.1267e-01, 6.1096e-03, 7.0007e-02, 1.8832e-03, 1.6014e-02,\n",
       "          5.2217e-03, 1.9840e-02, 1.6310e-01, 3.3084e-03],\n",
       "         [2.6701e-04, 2.3996e-04, 8.2275e-04, 4.2142e-01, 4.8370e-05, 5.5563e-01,\n",
       "          3.0631e-04, 8.6775e-04, 1.9313e-02, 1.0927e-03],\n",
       "         [2.0883e-01, 9.5059e-06, 8.4723e-02, 8.0050e-04, 1.3687e-01, 1.6013e-01,\n",
       "          3.4727e-01, 7.5982e-04, 6.0521e-02, 8.1757e-05],\n",
       "         [2.9050e-03, 7.1838e-03, 1.1265e-01, 2.9336e-01, 1.2090e-03, 8.7402e-03,\n",
       "          8.4982e-05, 5.3895e-01, 2.4890e-02, 1.0035e-02],\n",
       "         [1.3130e-02, 4.2248e-05, 7.2639e-01, 1.5036e-02, 4.2285e-05, 9.8681e-03,\n",
       "          2.6365e-03, 3.9937e-04, 2.3242e-01, 2.8092e-05],\n",
       "         [3.8049e-03, 2.5552e-03, 7.1639e-02, 3.0250e-01, 2.5576e-02, 8.8003e-03,\n",
       "          1.0106e-04, 5.8204e-01, 3.2083e-04, 2.6620e-03],\n",
       "         [1.7855e-03, 7.5121e-01, 6.7935e-03, 2.6195e-02, 6.6468e-04, 2.8682e-02,\n",
       "          3.1584e-03, 4.2514e-02, 1.3661e-01, 2.3878e-03],\n",
       "         [7.3818e-02, 8.4519e-03, 2.3437e-01, 2.3047e-01, 7.3490e-04, 2.2847e-01,\n",
       "          6.3587e-02, 4.6441e-03, 1.5375e-01, 1.7046e-03],\n",
       "         [6.3157e-04, 7.7130e-01, 4.5474e-03, 1.0505e-02, 2.7903e-04, 1.4610e-02,\n",
       "          9.9637e-04, 3.2747e-03, 1.9314e-01, 7.1174e-04],\n",
       "         [7.0181e-03, 7.1873e-01, 1.5644e-02, 4.5889e-02, 5.8513e-03, 4.7537e-02,\n",
       "          1.2009e-02, 5.5577e-02, 8.4105e-02, 7.6439e-03],\n",
       "         [6.5449e-03, 9.2444e-03, 4.2225e-02, 3.0542e-01, 4.1228e-02, 8.8665e-03,\n",
       "          9.9444e-05, 5.5978e-01, 9.0174e-04, 2.5693e-02],\n",
       "         [2.3022e-03, 3.8417e-03, 5.9362e-02, 3.1342e-02, 3.1221e-01, 1.0413e-02,\n",
       "          5.2015e-04, 1.2874e-01, 8.8723e-02, 3.6255e-01],\n",
       "         [1.7642e-02, 4.4590e-02, 6.7397e-01, 2.6177e-02, 3.1922e-03, 1.4512e-02,\n",
       "          4.5494e-02, 7.9737e-03, 1.6495e-01, 1.5074e-03],\n",
       "         [1.2385e-03, 2.4602e-01, 4.4177e-02, 4.2881e-01, 4.1527e-04, 1.9742e-01,\n",
       "          1.9726e-02, 4.2081e-02, 1.7342e-02, 2.7743e-03],\n",
       "         [1.1568e-02, 8.3739e-04, 5.4723e-04, 4.1282e-01, 9.0808e-04, 5.2636e-01,\n",
       "          1.1789e-03, 2.8238e-04, 4.2108e-02, 3.3888e-03],\n",
       "         [4.4487e-04, 3.5190e-01, 9.7821e-03, 4.0306e-01, 1.1709e-02, 9.1658e-02,\n",
       "          4.3080e-03, 1.5827e-02, 9.8277e-02, 1.3037e-02],\n",
       "         [1.2605e-02, 2.9542e-03, 7.0030e-01, 2.5613e-02, 4.2356e-03, 2.3969e-02,\n",
       "          6.7564e-02, 3.1136e-02, 1.3028e-01, 1.3436e-03],\n",
       "         [9.8886e-03, 5.6847e-04, 1.6575e-02, 7.2083e-02, 3.1230e-01, 1.4590e-02,\n",
       "          3.7198e-04, 1.7903e-02, 1.8683e-01, 3.6888e-01],\n",
       "         [1.7145e-03, 5.7306e-05, 1.0081e-01, 1.5980e-03, 3.1224e-01, 8.9328e-03,\n",
       "          4.3527e-03, 1.4825e-01, 5.7738e-02, 3.6431e-01],\n",
       "         [2.5454e-01, 2.4913e-03, 8.2879e-03, 1.8294e-01, 5.3226e-03, 1.0924e-01,\n",
       "          3.7100e-01, 3.0919e-04, 6.5681e-02, 2.0224e-04],\n",
       "         [1.7855e-02, 1.0348e-03, 7.2971e-02, 4.1979e-01, 4.3213e-05, 3.0175e-01,\n",
       "          2.1340e-02, 1.3978e-02, 1.2078e-01, 3.0457e-02],\n",
       "         [1.7474e-01, 1.7161e-03, 1.1532e-03, 1.7668e-01, 5.9856e-02, 5.8211e-01,\n",
       "          1.3181e-03, 5.4921e-04, 1.8054e-03, 7.3717e-05],\n",
       "         [2.2010e-01, 7.4199e-04, 8.1699e-03, 1.2389e-01, 6.5026e-02, 4.7815e-01,\n",
       "          1.0584e-02, 9.5106e-03, 4.2287e-02, 4.1544e-02],\n",
       "         [4.0712e-03, 1.8524e-05, 4.2010e-01, 4.9046e-03, 2.6647e-03, 1.1900e-02,\n",
       "          3.6077e-01, 3.9911e-03, 1.9154e-01, 3.1572e-05],\n",
       "         [3.4356e-01, 3.7016e-04, 8.5516e-03, 9.0243e-02, 2.0570e-04, 1.9610e-01,\n",
       "          6.3158e-03, 1.0150e-02, 2.4360e-01, 1.0090e-01],\n",
       "         [9.2895e-03, 3.1134e-05, 8.7083e-02, 5.4555e-03, 3.1250e-01, 1.1065e-02,\n",
       "          1.2683e-02, 1.1383e-02, 2.0372e-01, 3.4679e-01],\n",
       "         [1.4875e-03, 7.7069e-01, 4.2797e-03, 1.1309e-02, 5.5465e-04, 9.6739e-03,\n",
       "          7.7339e-04, 5.6383e-02, 1.4349e-01, 1.3602e-03],\n",
       "         [3.5189e-02, 1.5951e-03, 1.1599e-02, 4.8908e-02, 3.1231e-01, 1.0024e-02,\n",
       "          6.8614e-04, 2.0173e-01, 1.5676e-02, 3.6228e-01],\n",
       "         [2.4136e-01, 6.9590e-02, 4.6737e-03, 1.9760e-02, 7.5257e-02, 4.6857e-01,\n",
       "          5.9566e-03, 4.2521e-02, 6.8214e-02, 4.0939e-03],\n",
       "         [1.1254e-03, 1.8754e-03, 5.3162e-04, 4.0052e-01, 6.4696e-03, 8.0574e-03,\n",
       "          1.1150e-04, 5.7861e-01, 8.6146e-04, 1.8380e-03],\n",
       "         [1.2638e-01, 1.3618e-03, 2.3169e-01, 1.4895e-02, 7.4401e-02, 1.3290e-01,\n",
       "          4.9075e-02, 1.7063e-03, 2.8407e-01, 8.3515e-02],\n",
       "         [4.4717e-03, 7.0425e-03, 6.0364e-02, 4.0598e-02, 3.0722e-01, 1.8490e-02,\n",
       "          1.2571e-02, 2.7739e-02, 2.3316e-01, 2.8834e-01],\n",
       "         [2.1148e-03, 1.7261e-02, 5.3914e-01, 2.0061e-01, 1.4878e-04, 3.6075e-02,\n",
       "          6.1168e-03, 8.3954e-03, 1.8504e-01, 5.0965e-03]])]"
      ]
     },
     "execution_count": 60,
     "metadata": {},
     "output_type": "execute_result"
    }
   ],
   "source": [
    "class StudentData(Dataset):\n",
    "    def __init__(self, dataset, targets):\n",
    "        \n",
    "        self.dataset = dataset\n",
    "        self.targets = targets\n",
    "        self.indices = dataset.indices\n",
    "            \n",
    "    def __getitem__(self, index):\n",
    "        if isinstance(index, list):\n",
    "            data, _ = self.dataset[[i for i in index]]\n",
    "            target = self.targets[[self.indices[i] for i in index]]\n",
    "        else:\n",
    "            data, _ = self.dataset[index]\n",
    "            target = self.targets[self.indices[index]]\n",
    "            \n",
    "        return data, target\n",
    "        \n",
    "    \n",
    "    def __len__(self):\n",
    "        \"\"\"Total number of samples\"\"\"\n",
    "        return len(self.indices)\n",
    "\n",
    "student_data = StudentData(public_data, student_targets)\n",
    "student_data_loader = DataLoader(student_data, public_batch_size)\n",
    "data_iter = iter(student_data_loader)\n",
    "next(data_iter)"
   ]
  },
  {
   "cell_type": "code",
   "execution_count": 64,
   "id": "329b1791",
   "metadata": {},
   "outputs": [
    {
     "name": "stdout",
     "output_type": "stream",
     "text": [
      "Epoch 150/150: Train accuracy: 79.30: Train loss: 1.984\n",
      "\n"
     ]
    }
   ],
   "source": [
    "def evaluate(model, data_loader, loss_function):\n",
    "    model.eval()\n",
    "    loss = []\n",
    "    correct = 0\n",
    "    with torch.no_grad():\n",
    "        for x, y in data_loader:\n",
    "            output = model(x)\n",
    "            error = loss_function(output, y)\n",
    "            loss.append(error.item())\n",
    "            _, pred = torch.max(output.data, 1)\n",
    "            correct += (pred == y).sum().item()\n",
    "    avg_loss = sum(loss) / len(loss)\n",
    "    accuracy = 100. * correct / len(data_loader.dataset)\n",
    "\n",
    "    return accuracy, avg_loss\n",
    "\n",
    "model = Mnist_Student()\n",
    "loss_function = nn.L1Loss()\n",
    "optimizer = optim.SGD(model.parameters(), lr=0.001, momentum=0.9)\n",
    "\n",
    "n_epochs_student = 150\n",
    "\n",
    "for epoch in range(n_epochs_student):\n",
    "\n",
    "    model.train()\n",
    "    for x, y in student_data_loader:\n",
    "        optimizer.zero_grad()\n",
    "        output = model(x)\n",
    "        error = loss_function(output, y)\n",
    "        error.backward()\n",
    "        optimizer.step()\n",
    "        \n",
    "    train_acc, train_loss = evaluate(model, public_data_loader, nn.CrossEntropyLoss())\n",
    "    print(f\"Epoch {epoch+1}/{n_epochs_student}: \"\n",
    "          f\"Train accuracy: {train_acc:.2f}: \"\n",
    "          f\"Train loss: {train_loss:.3f}\", end=\"\\r\")\n",
    "print(\"\\n\")\n",
    "    "
   ]
  },
  {
   "cell_type": "code",
   "execution_count": 97,
   "id": "f32c5544",
   "metadata": {},
   "outputs": [
    {
     "name": "stdout",
     "output_type": "stream",
     "text": [
      "Accuracy:  0.654\n"
     ]
    }
   ],
   "source": [
    "correct = 0\n",
    "total = 0\n",
    "\n",
    "with torch.no_grad():\n",
    "     for x, y in test_data_loader:\n",
    "            output = model(x)\n",
    "            for idx, i in enumerate(output):\n",
    "                if torch.argmax(i) == y[idx]:\n",
    "                    correct += 1\n",
    "                total +=1\n",
    "                \n",
    "print(\"Accuracy: \", round(correct/total, 3))"
   ]
  },
  {
   "cell_type": "code",
   "execution_count": 25,
   "id": "6f616dff",
   "metadata": {},
   "outputs": [],
   "source": [
    "alg = \"fedavg+feded\"\n",
    "algs = alg.split(\"+\")\n",
    "ens = [\"fede\"]"
   ]
  },
  {
   "cell_type": "code",
   "execution_count": 27,
   "id": "a6977e19",
   "metadata": {},
   "outputs": [],
   "source": [
    "any(alg in algs for alg in ens)"
   ]
  },
  {
   "cell_type": "code",
   "execution_count": 28,
   "id": "9d1d9c84",
   "metadata": {},
   "outputs": [
    {
     "data": {
      "text/plain": [
       "False"
      ]
     },
     "execution_count": 28,
     "metadata": {},
     "output_type": "execute_result"
    }
   ],
   "source": [
    "b"
   ]
  },
  {
   "cell_type": "code",
   "execution_count": 57,
   "id": "4983b2eb",
   "metadata": {},
   "outputs": [
    {
     "data": {
      "text/plain": [
       "<torch.utils.data.dataloader.DataLoader at 0x7fe9e18530d0>"
      ]
     },
     "execution_count": 57,
     "metadata": {},
     "output_type": "execute_result"
    }
   ],
   "source": [
    "client_data_loaders[0]"
   ]
  },
  {
   "cell_type": "code",
   "execution_count": null,
   "id": "b6713f40",
   "metadata": {},
   "outputs": [],
   "source": []
  }
 ],
 "metadata": {
  "kernelspec": {
   "display_name": "Python 3 (ipykernel)",
   "language": "python",
   "name": "python3"
  },
  "language_info": {
   "codemirror_mode": {
    "name": "ipython",
    "version": 3
   },
   "file_extension": ".py",
   "mimetype": "text/x-python",
   "name": "python",
   "nbconvert_exporter": "python",
   "pygments_lexer": "ipython3",
   "version": "3.8.10"
  }
 },
 "nbformat": 4,
 "nbformat_minor": 5
}
