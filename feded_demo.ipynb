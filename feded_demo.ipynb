{
 "cells": [
  {
   "cell_type": "markdown",
   "id": "a89743f4",
   "metadata": {},
   "source": [
    "## Imports"
   ]
  },
  {
   "cell_type": "code",
   "execution_count": 1,
   "id": "d014ab61",
   "metadata": {},
   "outputs": [],
   "source": [
    "import torch\n",
    "import torch.nn as nn\n",
    "import torch.nn.functional as F\n",
    "from torchvision.datasets import MNIST, CIFAR10\n",
    "from torch.utils.data import Subset, DataLoader, Dataset\n",
    "from torchvision.transforms import Compose, ToTensor, Normalize\n",
    "import numpy as np\n",
    "from tqdm import tqdm\n",
    "import torch.optim as optim\n",
    "import copy\n",
    "from math import floor\n",
    "import matplotlib.pyplot as plt"
   ]
  },
  {
   "cell_type": "markdown",
   "id": "8d6bb5e6",
   "metadata": {},
   "source": [
    "## Settings"
   ]
  },
  {
   "cell_type": "code",
   "execution_count": 59,
   "id": "cf2e14fc",
   "metadata": {},
   "outputs": [],
   "source": [
    "train_fraction = 0.3\n",
    "n_clients = 5\n",
    "distribution = \"iid\"\n",
    "alpha = 0.1\n",
    "train_batch_size = 64\n",
    "test_batch_size = 64\n",
    "public_batch_size = 64\n",
    "n_samples_public = 400\n",
    "n_epochs = 40"
   ]
  },
  {
   "cell_type": "markdown",
   "id": "60ae914c",
   "metadata": {},
   "source": [
    "## Data loaders"
   ]
  },
  {
   "cell_type": "code",
   "execution_count": 60,
   "id": "cbe2b2b5",
   "metadata": {},
   "outputs": [
    {
     "name": "stdout",
     "output_type": "stream",
     "text": [
      "Files already downloaded and verified\n",
      "\n",
      "Using 15000 training samples\n",
      "\n"
     ]
    }
   ],
   "source": [
    "def sample_train_data(train_fraction, transform):\n",
    "    \"\"\" Sample a chosen fraction of the training dataset to use.\n",
    "\n",
    "        Parameters:\n",
    "        train_fraction  (float): Fraction of training data to use.\n",
    "        transform       (torchvision.transforms.Compose): Collection of transforms to apply on data.\n",
    "\n",
    "        Returns:\n",
    "        torch.utils.data.Subset: Subset of training data.\n",
    "    \"\"\"\n",
    "    train_data = CIFAR10(\n",
    "        root='data', \n",
    "        train=True, \n",
    "        transform=transform, \n",
    "        download=True)\n",
    "    train_data.targets = torch.tensor(train_data.targets)\n",
    "    n_samples = len(train_data.targets)\n",
    "    index_limit = int(train_fraction * n_samples)\n",
    "    chosen_indices = np.random.choice(torch.arange(n_samples), size=index_limit, replace=False)\n",
    "    print(f\"\\nUsing {index_limit} training samples\\n\", flush=True)\n",
    "\n",
    "    return Subset(train_data, chosen_indices)\n",
    "\n",
    "transform = Compose([ToTensor(), Normalize((0.1307,), (0.3081,))])\n",
    "train_data = sample_train_data(train_fraction, transform)"
   ]
  },
  {
   "cell_type": "code",
   "execution_count": 61,
   "id": "fa90bd1e",
   "metadata": {},
   "outputs": [],
   "source": [
    "def generate_client_data(n_clients, distribution, alpha):\n",
    "    \"\"\" Generate iid client data or non-iid by sampling from Dirichlet distribution.\n",
    "\n",
    "        Parameters:\n",
    "        n_clients       (int): Number of clients.\n",
    "        distribution    (str): Indicator to sample iid or non-iid.\n",
    "        alpha           (float): Concentration parameter for Dirichlet distribution.\n",
    "    \"\"\"\n",
    "    labels = np.array([train_data[i][1] for i in range(len(train_data))])\n",
    "    n_classes = len(np.unique(labels))\n",
    "    partition_matrix = np.ones((n_classes, n_clients))\n",
    "\n",
    "    # iid: Sample from each class until no samples left.\n",
    "    if distribution == \"iid\":\n",
    "        partition_matrix /= n_clients\n",
    "        local_sets_indices = [np.array([], dtype=int) for _ in range(n_clients)]\n",
    "        clients_iter = np.arange(n_clients)\n",
    "\n",
    "        for i in range(n_classes):\n",
    "            class_indices = np.where(labels == i)[0]\n",
    "\n",
    "            clients_iter = clients_iter[::-1]\n",
    "            samples_left = True\n",
    "            while samples_left:\n",
    "                for j in clients_iter:\n",
    "                    if len(class_indices) == 0:\n",
    "                        samples_left = False\n",
    "                        break\n",
    "                    else:\n",
    "                        sample_idx = np.random.choice(len(class_indices))\n",
    "                        local_sets_indices[j] = np.append(local_sets_indices[j], train_data.indices[class_indices[sample_idx]])\n",
    "                        class_indices = np.delete(class_indices, sample_idx)\n",
    "\n",
    "    # non-iid: Sample from dirichlet distribution.\n",
    "    else:\n",
    "        class_indices = []\n",
    "        for i in range(n_classes):\n",
    "            class_indices.append(np.array(range(len(labels)))[labels == i])\n",
    "        valid_pm = False\n",
    "        while not valid_pm:\n",
    "            partition_matrix = np.random.dirichlet((alpha, )*n_clients, n_classes)\n",
    "            valid_pm = all(np.sum(partition_matrix, axis=0) > 0.01)\n",
    "\n",
    "        local_sets_indices = [[] for _ in range(n_clients)]\n",
    "        for each_class in range(n_classes):\n",
    "            sample_size = len(class_indices[each_class])\n",
    "            for client in range(n_clients):\n",
    "                np.random.shuffle(class_indices[each_class])\n",
    "                local_size = floor(partition_matrix[each_class, client] * sample_size)\n",
    "                local_sets_indices[client] += list(train_data.indices[class_indices[each_class][:local_size]])\n",
    "                class_indices[each_class] = class_indices[each_class][local_size:]\n",
    "    \n",
    "    return local_sets_indices\n",
    "\n",
    "\n",
    "local_sets_indices = generate_client_data(n_clients, distribution, alpha)\n",
    "\n",
    "\n",
    "def get_train_data_loaders(batch_size):\n",
    "    \"\"\" Get list of client training data loaders.\n",
    "\n",
    "        Parameters:\n",
    "        n_clients       (int): Number of clients.\n",
    "        distribution    (str): iid/non-iid distributed data.\n",
    "        alpha           (float): Concentration parameter for dirichlet distribution.\n",
    "        batch_size      (int): Batch size for loading training data.\n",
    "\n",
    "        Returns List[torch.utils.data.DataLoader]\n",
    "    \"\"\"\n",
    "    client_data_loaders = []\n",
    "    for client_indices in local_sets_indices:\n",
    "            np.random.shuffle(client_indices)\n",
    "            client_data_loaders.append(DataLoader(Subset(train_data.dataset, client_indices), batch_size))\n",
    "    return client_data_loaders\n",
    "\n",
    "client_data_loaders = get_train_data_loaders(train_batch_size)"
   ]
  },
  {
   "cell_type": "code",
   "execution_count": 63,
   "id": "24718b9e",
   "metadata": {},
   "outputs": [
    {
     "data": {
      "image/png": "[encoded data removed]",
      "text/plain": [
       "<Figure size 936x1296 with 5 Axes>"
      ]
     },
     "metadata": {
      "needs_background": "light"
     },
     "output_type": "display_data"
    }
   ],
   "source": [
    "import matplotlib.pyplot as plt\n",
    "import seaborn as sns\n",
    "dataset = CIFAR10(root='data', transform=transform, train=True)\n",
    "dataset.targets = torch.tensor(dataset.targets)\n",
    "client_targets = [dataset.targets[indices].tolist() for indices in local_sets_indices]\n",
    "n_clients = len(client_targets)\n",
    "\n",
    "fig, ax = plt.subplots(n_clients, figsize=(13,18))\n",
    "for i in range(n_clients):\n",
    "    sns.histplot(client_targets[i], ax=ax[i])\n",
    "    ax[i].set_title(\"Client {}\".format(i))\n",
    "    ax[i].set_xlim([0,9])"
   ]
  },
  {
   "cell_type": "code",
   "execution_count": 64,
   "id": "314392ce",
   "metadata": {},
   "outputs": [
    {
     "name": "stdout",
     "output_type": "stream",
     "text": [
      "Files already downloaded and verified\n"
     ]
    }
   ],
   "source": [
    "def split_test_public(n_samples):\n",
    "    labels = np.array([y for (_, y) in test_data])\n",
    "    n_classes = len(np.unique(labels))\n",
    "    n_samples_per_class = int(n_samples / n_classes)\n",
    "    all_indices = np.arange(len(labels))\n",
    "\n",
    "    public_set_indices = []\n",
    "\n",
    "    for i in range(n_classes):\n",
    "        class_indices = np.where(labels == i)[0]\n",
    "        chosen_indices = list(np.random.choice(class_indices, n_samples_per_class, replace=False))\n",
    "        public_set_indices.extend(chosen_indices)\n",
    "\n",
    "    # Fill up to n_samples.\n",
    "    samples_left = n_samples - len(public_set_indices)\n",
    "    indices_left = [x for x in all_indices if x not in public_set_indices]\n",
    "    chosen_indices = list(np.random.choice(indices_left, samples_left, replace=False))\n",
    "    public_set_indices.extend(chosen_indices)\n",
    "\n",
    "    test_set_indices = [x for x in all_indices if x not in public_set_indices]\n",
    "\n",
    "    return Subset(test_data, test_set_indices), Subset(test_data, public_set_indices)\n",
    "\n",
    "test_data = CIFAR10(\n",
    "    root='data', \n",
    "    train=False, \n",
    "    transform=transform, \n",
    "    download=True)\n",
    "\n",
    "test_data.targets = torch.tensor(test_data.targets)\n",
    "\n",
    "# test_data, public_data = split_test_public(n_samples_public)\n",
    "idx_split = int(len(test_data) / 2)\n",
    "public_data = Subset(test_data, np.arange(idx_split))\n",
    "test_data = Subset(test_data, np.arange(idx_split, idx_split*2))\n",
    "test_data_loader = DataLoader(test_data, test_batch_size)\n",
    "public_data_loader = DataLoader(public_data, public_batch_size)"
   ]
  },
  {
   "cell_type": "code",
   "execution_count": 65,
   "id": "123688e9",
   "metadata": {},
   "outputs": [
    {
     "data": {
      "text/plain": [
       "(0.0, 9.0)"
      ]
     },
     "execution_count": 65,
     "metadata": {},
     "output_type": "execute_result"
    },
    {
     "data": {
      "image/png": "[encoded data removed]",
      "text/plain": [
       "<Figure size 936x1296 with 2 Axes>"
      ]
     },
     "metadata": {
      "needs_background": "light"
     },
     "output_type": "display_data"
    }
   ],
   "source": [
    "public_targets = public_data.dataset.targets[public_data.indices[:600]].tolist()\n",
    "test_targets = test_data.dataset.targets[test_data.indices].tolist()\n",
    "\n",
    "fig, ax = plt.subplots(2, figsize=(13,18))\n",
    "\n",
    "sns.histplot(public_targets, ax=ax[0])\n",
    "ax[0].set_title(\"Public data\")\n",
    "ax[0].set_xlim([0,9])\n",
    "#ax[i].set_ylim([0,1200])\n",
    "\n",
    "sns.histplot(test_targets, ax=ax[1])\n",
    "ax[1].set_title(\"Test data\")\n",
    "ax[1].set_xlim([0,9])\n",
    "#ax[i].set_ylim([0,1200])"
   ]
  },
  {
   "cell_type": "markdown",
   "id": "9a2b319b",
   "metadata": {},
   "source": [
    "## Models"
   ]
  },
  {
   "cell_type": "code",
   "execution_count": 67,
   "id": "393bf38d",
   "metadata": {},
   "outputs": [],
   "source": [
    "class Mnist_Cnn(nn.Module):\n",
    "    def __init__(self):\n",
    "        super(Mnist_Cnn, self).__init__()\n",
    "        self.conv1 = nn.Conv2d(1, 32, 3, 1)\n",
    "        self.conv2 = nn.Conv2d(32, 64, 3, 1)\n",
    "        self.dropout1 = nn.Dropout(0.25)\n",
    "        self.dropout2 = nn.Dropout(0.5)\n",
    "        self.fc1 = nn.Linear(9216, 128)\n",
    "        self.fc2 = nn.Linear(128, 10)\n",
    "\n",
    "    def forward(self, x):\n",
    "        x = self.conv1(x)\n",
    "        x = F.relu(x)\n",
    "        x = self.conv2(x)\n",
    "        x = F.relu(x)\n",
    "        x = F.max_pool2d(x, 2)\n",
    "        x = self.dropout1(x)\n",
    "        x = torch.flatten(x, 1)\n",
    "        x = self.fc1(x)\n",
    "        x = F.relu(x)\n",
    "        x = self.dropout2(x)\n",
    "        output = self.fc2(x)\n",
    "        return output\n",
    "    \n",
    "class Mnist_Student(nn.Module):\n",
    "    def __init__(self):\n",
    "        super(Mnist_Student, self).__init__()\n",
    "        self.conv1 = nn.Conv2d(1, 8, 5, 1, 2)\n",
    "        self.pool = nn.MaxPool2d(4)\n",
    "        self.fc1 = nn.Linear(8 * 7 * 7, 10)\n",
    "\n",
    "    def forward(self, x):\n",
    "        x = self.pool(F.relu(self.conv1(x)))\n",
    "        x = torch.flatten(x, 1)\n",
    "        x = self.fc1(x)\n",
    "        return x"
   ]
  },
  {
   "cell_type": "code",
   "execution_count": 82,
   "id": "a556ce4a",
   "metadata": {},
   "outputs": [],
   "source": [
    "class Cifar10_Cnn(nn.Module):\n",
    "    def __init__(self):\n",
    "        super().__init__()\n",
    "        self.conv1 = nn.Conv2d(3, 6, 5)\n",
    "        self.pool1 = nn.MaxPool2d(2)\n",
    "        self.conv2 = nn.Conv2d(6, 16, 5)\n",
    "        self.pool2 = nn.MaxPool2d(2)\n",
    "        self.fc1 = nn.Linear(16 * 5 * 5, 128)\n",
    "        self.fc2 = nn.Linear(128, 64)\n",
    "        self.fc3 = nn.Linear(64, 10)\n",
    "\n",
    "    def forward(self, x):\n",
    "        x = self.pool1(F.relu(self.conv1(x)))\n",
    "        x = self.pool2(F.relu(self.conv2(x)))\n",
    "        x = torch.flatten(x, 1)\n",
    "        x = F.relu(self.fc1(x))\n",
    "        x = F.relu(self.fc2(x))\n",
    "        x = self.fc3(x)\n",
    "        return x\n",
    "    \n",
    "class Cifar10_Student(nn.Module):\n",
    "    def __init__(self):\n",
    "        super(Cifar10_Student, self).__init__()\n",
    "        self.conv1 = nn.Conv2d(3, 6, 5)\n",
    "        self.pool1 = nn.MaxPool2d(2)\n",
    "        self.conv2 = nn.Conv2d(6, 16, 5)\n",
    "        self.pool2 = nn.MaxPool2d(2)\n",
    "        self.fc1 = nn.Linear(16 * 5 * 5, 128)\n",
    "        self.fc2 = nn.Linear(128, 64)\n",
    "        self.fc3 = nn.Linear(64, 10)\n",
    "\n",
    "    def forward(self, x):\n",
    "        x = self.pool1(F.relu(self.conv1(x)))\n",
    "        x = self.pool2(F.relu(self.conv2(x)))\n",
    "        x = torch.flatten(x, 1)\n",
    "        x = F.relu(self.fc1(x))\n",
    "        x = F.relu(self.fc2(x))\n",
    "        x = self.fc3(x)\n",
    "        return x"
   ]
  },
  {
   "cell_type": "markdown",
   "id": "275f6618",
   "metadata": {},
   "source": [
    "## Training clients"
   ]
  },
  {
   "cell_type": "code",
   "execution_count": 69,
   "id": "070b90c8",
   "metadata": {},
   "outputs": [
    {
     "name": "stdout",
     "output_type": "stream",
     "text": [
      "tensor([[300, 303, 294, 303, 292, 308, 304, 306, 292, 298],\n",
      "        [300, 303, 294, 303, 292, 307, 304, 306, 292, 298],\n",
      "        [301, 302, 295, 302, 292, 307, 304, 306, 293, 298],\n",
      "        [301, 302, 295, 302, 293, 307, 304, 305, 293, 298],\n",
      "        [301, 302, 295, 302, 293, 307, 305, 305, 293, 298]])\n",
      "tensor([1503, 1512, 1473, 1512, 1462, 1536, 1521, 1528, 1463, 1490])\n",
      "tensor([0.1996, 0.2004, 0.1996, 0.2004, 0.1997, 0.2005, 0.1999, 0.2003, 0.1996,\n",
      "        0.2000])\n"
     ]
    }
   ],
   "source": [
    "label_count_matrix = np.array([[torch.sum(train_data.dataset.targets[local_sets_indices[i]] == c) for c in range(10)] for i in range(n_clients)])\n",
    "\n",
    "local_indices = [client_data_loaders[i].dataset.indices for i in range(n_clients)]\n",
    "label_count_matrix = torch.tensor([[torch.sum(client_data_loaders[0].dataset.dataset.targets[local_indices[i]] == c) for c in range(10)] for i in range(n_clients)])\n",
    "print(label_count_matrix)\n",
    "print(torch.sum(label_count_matrix, axis=0))\n",
    "print(torch.true_divide(label_count_matrix[0], torch.sum(label_count_matrix, axis=0)))\n",
    "# label_count_matrix = np.array([np.zeros(10) for _ in range(n_clients)])\n",
    "# for i in range(n_clients):\n",
    "#     target_batches = [y.tolist() for (_, y) in client_data_loaders[i]]\n",
    "#     targets = []\n",
    "#     for target_batch in target_batches:\n",
    "#         targets.extend(target_batch)\n",
    "#     targets = np.array(targets)\n",
    "#     label_count = np.array([np.sum(targets == c) for c in range(10)])\n",
    "#     label_count_matrix[i] = label_count\n",
    "# print(label_count_matrix)"
   ]
  },
  {
   "cell_type": "code",
   "execution_count": 84,
   "id": "394a820b",
   "metadata": {},
   "outputs": [],
   "source": [
    "def evaluate(model, data_loader, loss_function):\n",
    "    model.eval()\n",
    "    loss = []\n",
    "    correct = 0\n",
    "    with torch.no_grad():\n",
    "        for x, y in data_loader:\n",
    "            output = model(x)\n",
    "            error = loss_function(output, y)\n",
    "            loss.append(error.item())\n",
    "            _, pred = torch.max(output.data, 1)\n",
    "            correct += (pred == y).sum().item()\n",
    "    avg_loss = sum(loss) / len(loss)\n",
    "    accuracy = 100. * correct / len(data_loader.dataset)\n",
    "\n",
    "    return accuracy, avg_loss"
   ]
  },
  {
   "cell_type": "code",
   "execution_count": 83,
   "id": "e57ca573",
   "metadata": {},
   "outputs": [
    {
     "name": "stdout",
     "output_type": "stream",
     "text": [
      "Starting training\n",
      "Client 1/5: Epoch 40/40: Train accuracy: 0.42: Train loss: 1.606\n",
      "\n",
      "Client 2/5: Epoch 40/40: Train accuracy: 0.42: Train loss: 1.623\n",
      "\n",
      "Client 3/5: Epoch 40/40: Train accuracy: 0.43: Train loss: 1.566\n",
      "\n",
      "Client 4/5: Epoch 40/40: Train accuracy: 0.41: Train loss: 1.625\n",
      "\n",
      "Client 5/5: Epoch 40/40: Train accuracy: 0.42: Train loss: 1.623\n",
      "\n"
     ]
    }
   ],
   "source": [
    "local_model = Cifar10_Cnn()\n",
    "loss_function = nn.CrossEntropyLoss()\n",
    "\n",
    "logits_ensemble = torch.zeros(5000, 10)\n",
    "\n",
    "print(\"Starting training\")\n",
    "\n",
    "for i in range(n_clients):\n",
    "    model = copy.deepcopy(local_model)\n",
    "    optimizer = optim.SGD(model.parameters(), lr=0.001, momentum=0.9)\n",
    "    \n",
    "    for epoch in range(n_epochs):\n",
    "        train_loss = []\n",
    "        correct = 0\n",
    "        model.train()\n",
    "        for x, y in client_data_loaders[i]:\n",
    "            optimizer.zero_grad()\n",
    "            output = model(x)\n",
    "            error = loss_function(output, y)\n",
    "            error.backward()\n",
    "            optimizer.step()\n",
    "            \n",
    "            train_loss.append(error.item())\n",
    "            _, pred = torch.max(output.data, 1)\n",
    "            correct += (pred == y).sum().item()\n",
    "        print(f\"Client {i+1}/{n_clients}: \"\n",
    "              f\"Epoch {epoch+1}/{n_epochs}: \"\n",
    "              f\"Train accuracy: {correct/len(client_data_loaders[i].dataset):.2f}: \"\n",
    "              f\"Train loss: {sum(train_loss)/len(train_loss):.3f}\", end=\"\\r\")\n",
    "    print(\"\\n\")\n",
    "    \n",
    "    model.eval()\n",
    "    logits_local = None\n",
    "    with torch.no_grad():\n",
    "        for x, _ in public_data_loader:\n",
    "            if logits_local is None:\n",
    "                logits_local = F.softmax(model(x), dim=1)\n",
    "            else:\n",
    "                logits_local = torch.cat((logits_local, F.softmax(model(x), dim=1)))\n",
    "        \n",
    "    # Increment average\n",
    "    logits_ensemble = logits_ensemble + logits_local * torch.sum(label_count_matrix[i]) / torch.sum(torch.sum(label_count_matrix))"
   ]
  },
  {
   "cell_type": "markdown",
   "id": "bd10836e",
   "metadata": {},
   "source": [
    "## Training student"
   ]
  },
  {
   "cell_type": "code",
   "execution_count": 125,
   "id": "056701ce",
   "metadata": {},
   "outputs": [
    {
     "name": "stdout",
     "output_type": "stream",
     "text": [
      "tensor([0.0930, 0.0730, 0.1041, 0.1019, 0.1087, 0.0754, 0.0720, 0.1664, 0.0900,\n",
      "        0.1154])\n",
      "tensor([0.0876, 0.0744, 0.1072, 0.1025, 0.1069, 0.0665, 0.0708, 0.1825, 0.0827,\n",
      "        0.1190])\n"
     ]
    }
   ],
   "source": [
    "print(logits_ensemble1[0])\n",
    "log_ens2 = torch.true_divide(logits_ensemble2.T, torch.sum(logits_ensemble2, axis=1)).T\n",
    "print(log_ens2[0])\n"
   ]
  },
  {
   "cell_type": "code",
   "execution_count": 95,
   "id": "04858657",
   "metadata": {},
   "outputs": [
    {
     "name": "stdout",
     "output_type": "stream",
     "text": [
      "torch.Size([5000, 10])\n",
      "torch.Size([5000])\n",
      "tensor([0.2353, 0.0406, 0.0000, 0.3493, 0.0000, 0.0240, 0.1275, 0.2232, 0.0000,\n",
      "        0.0000])\n"
     ]
    }
   ],
   "source": [
    "print(logits_ensemble.shape)\n",
    "print(torch.sum(logits_ensemble, axis=1).shape)\n",
    "a = torch.true_divide(logits_ensemble.T, torch.sum(logits_ensemble, axis=1)).T\n",
    "print(a[0])"
   ]
  },
  {
   "cell_type": "code",
   "execution_count": 85,
   "id": "e19ad29e",
   "metadata": {},
   "outputs": [],
   "source": [
    "student_targets = torch.zeros(len(test_data.dataset), 10)\n",
    "for i in range(n_samples_public):\n",
    "    idx_public = public_data.indices[i]\n",
    "    student_targets[idx_public] = logits_ensemble[i]"
   ]
  },
  {
   "cell_type": "code",
   "execution_count": 86,
   "id": "0a92edc2",
   "metadata": {},
   "outputs": [
    {
     "data": {
      "text/plain": [
       "[tensor([[[[ 1.5868,  1.5996,  1.6759,  ...,  1.3196,  1.1795,  1.0523],\n",
       "           [ 1.5105,  1.4978,  1.5996,  ...,  1.3068,  1.1668,  1.0904],\n",
       "           [ 1.4978,  1.4978,  1.5868,  ...,  1.3450,  1.2305,  1.1032],\n",
       "           ...,\n",
       "           [ 0.4413,  0.1104, -0.0296,  ...,  0.0595, -0.2587,  0.0849],\n",
       "           [ 0.3522,  0.1995,  0.0213,  ..., -0.0933, -0.0551, -0.1696],\n",
       "           [ 0.2631,  0.2886,  0.1486,  ..., -0.1187,  0.0085, -0.1569]],\n",
       " \n",
       "          [[ 1.0013,  0.9886,  1.0523,  ...,  0.7850,  0.7341,  0.6577],\n",
       "           [ 1.0013,  0.9759,  1.0268,  ...,  0.7850,  0.7341,  0.6959],\n",
       "           [ 0.9759,  0.9632,  0.9886,  ...,  0.8232,  0.7850,  0.7086],\n",
       "           ...,\n",
       "           [ 1.1541,  0.8486,  0.6959,  ...,  0.8104,  0.3904,  0.6577],\n",
       "           [ 1.0523,  0.8741,  0.6577,  ...,  0.6195,  0.6195,  0.3904],\n",
       "           [ 0.9377,  0.9123,  0.7086,  ...,  0.5559,  0.6450,  0.4286]],\n",
       " \n",
       "          [[ 0.1995,  0.1740,  0.2249,  ...,  0.0340,  0.0340, -0.0042],\n",
       "           [ 0.2249,  0.0849,  0.1486,  ..., -0.0296, -0.0169,  0.0085],\n",
       "           [ 0.1740, -0.0042,  0.0340,  ...,  0.0085,  0.0085, -0.0042],\n",
       "           ...,\n",
       "           [ 1.8287,  1.4596,  1.3196,  ...,  1.4341,  0.9504,  1.1923],\n",
       "           [ 1.7141,  1.4596,  1.2559,  ...,  1.2305,  1.1795,  0.9377],\n",
       "           [ 1.6123,  1.4723,  1.2559,  ...,  1.1541,  1.2177,  0.9759]]],\n",
       " \n",
       " \n",
       "         [[[ 2.5669,  2.5160,  2.5287,  ...,  2.5415,  2.5415,  2.5287],\n",
       "           [ 2.6051,  2.5669,  2.5669,  ...,  2.5797,  2.5797,  2.5669],\n",
       "           [ 2.5924,  2.5542,  2.5542,  ...,  2.5669,  2.5669,  2.5542],\n",
       "           ...,\n",
       "           [ 0.6831,  0.1231, -0.1824,  ...,  1.7269,  1.8923,  1.9687],\n",
       "           [ 0.6195,  0.1613,  0.0340,  ...,  1.7905,  1.9305,  1.9560],\n",
       "           [ 0.6577,  0.3649,  0.3140,  ...,  1.7141,  1.8669,  1.9432]],\n",
       " \n",
       "          [[ 2.5669,  2.5160,  2.5287,  ...,  2.5415,  2.5415,  2.5287],\n",
       "           [ 2.6051,  2.5669,  2.5669,  ...,  2.5797,  2.5797,  2.5669],\n",
       "           [ 2.5924,  2.5542,  2.5542,  ...,  2.5669,  2.5669,  2.5542],\n",
       "           ...,\n",
       "           [ 0.8359,  0.2249, -0.1315,  ...,  1.9178,  2.0832,  2.1469],\n",
       "           [ 0.7977,  0.3013,  0.1358,  ...,  1.9814,  2.1214,  2.1469],\n",
       "           [ 0.8613,  0.5304,  0.4286,  ...,  1.9051,  2.0578,  2.1214]],\n",
       " \n",
       "          [[ 2.5669,  2.5160,  2.5287,  ...,  2.5415,  2.5415,  2.5287],\n",
       "           [ 2.6051,  2.5669,  2.5669,  ...,  2.5797,  2.5797,  2.5669],\n",
       "           [ 2.5924,  2.5542,  2.5542,  ...,  2.5669,  2.5669,  2.5542],\n",
       "           ...,\n",
       "           [ 0.7086,  0.0467, -0.2842,  ...,  1.8541,  2.0323,  2.1342],\n",
       "           [ 0.6195,  0.0340, -0.1442,  ...,  1.9051,  2.0705,  2.1214],\n",
       "           [ 0.6322,  0.1867,  0.0595,  ...,  1.8414,  2.0069,  2.1087]]],\n",
       " \n",
       " \n",
       "         [[[ 1.5868,  1.5868,  1.3450,  ...,  2.4778,  2.5924,  2.6051],\n",
       "           [ 1.7396,  1.7650,  1.4978,  ...,  2.5287,  2.7069,  2.7069],\n",
       "           [ 1.7905,  1.8160,  1.5741,  ...,  2.5033,  2.7578,  2.6942],\n",
       "           ...,\n",
       "           [-0.0296, -0.0424, -0.0933,  ...,  0.0467, -0.3097, -0.3733],\n",
       "           [-0.1315, -0.0806, -0.1060,  ..., -0.1824, -0.3733, -0.3606],\n",
       "           [-0.0678, -0.0424, -0.0169,  ..., -0.3606, -0.3733, -0.3351]],\n",
       " \n",
       "          [[ 1.9942,  1.9560,  1.6887,  ...,  2.5160,  2.6178,  2.6433],\n",
       "           [ 2.1214,  2.1087,  1.8160,  ...,  2.5287,  2.7069,  2.7197],\n",
       "           [ 2.1342,  2.1214,  1.8541,  ...,  2.4906,  2.7451,  2.6815],\n",
       "           ...,\n",
       "           [ 0.0849,  0.0722,  0.0213,  ...,  0.0849, -0.2587, -0.3351],\n",
       "           [ 0.0085,  0.0595,  0.0340,  ..., -0.1696, -0.3478, -0.3351],\n",
       "           [ 0.0976,  0.1231,  0.1486,  ..., -0.3478, -0.3606, -0.3224]],\n",
       " \n",
       "          [[ 2.4015,  2.3505,  2.0451,  ...,  2.5542,  2.6687,  2.7069],\n",
       "           [ 2.4906,  2.4524,  2.1342,  ...,  2.5797,  2.7578,  2.7706],\n",
       "           [ 2.4396,  2.4015,  2.1087,  ...,  2.5287,  2.7706,  2.7197],\n",
       "           ...,\n",
       "           [ 0.1486,  0.1358,  0.0849,  ...,  0.1613, -0.2460, -0.3606],\n",
       "           [ 0.0722,  0.1231,  0.0976,  ..., -0.1187, -0.3860, -0.3860],\n",
       "           [ 0.1740,  0.2122,  0.2377,  ..., -0.3224, -0.3860, -0.3351]]],\n",
       " \n",
       " \n",
       "         ...,\n",
       " \n",
       " \n",
       "         [[[-0.2969, -0.2969, -0.2969,  ...,  1.7014,  1.7523,  1.7905],\n",
       "           [-0.2969, -0.2969, -0.2969,  ...,  1.7396,  1.7905,  1.8160],\n",
       "           [-0.2969, -0.2969, -0.2969,  ...,  1.7269,  1.7778,  1.8160],\n",
       "           ...,\n",
       "           [ 0.6577, -0.0169, -0.0933,  ...,  1.7396,  1.5741,  1.3959],\n",
       "           [-0.0296, -0.1824,  0.1740,  ...,  1.4087,  1.2050,  1.0013],\n",
       "           [-0.2587, -0.0678,  0.7850,  ...,  1.0013,  1.0650,  1.1923]],\n",
       " \n",
       "          [[-0.2969, -0.2969, -0.2969,  ...,  1.3068,  1.3705,  1.4087],\n",
       "           [-0.2969, -0.2969, -0.2969,  ...,  1.3450,  1.4087,  1.4341],\n",
       "           [-0.2969, -0.2969, -0.2969,  ...,  1.3450,  1.3959,  1.4341],\n",
       "           ...,\n",
       "           [ 0.4668,  0.0085, -0.0806,  ...,  1.3832,  1.2305,  1.0777],\n",
       "           [-0.0551, -0.1696,  0.0340,  ...,  1.0777,  0.8741,  0.7213],\n",
       "           [-0.1951, -0.0806,  0.5431,  ...,  0.6831,  0.7595,  0.9123]],\n",
       " \n",
       "          [[-0.2969, -0.2969, -0.2969,  ...,  0.9123,  0.9377,  0.9632],\n",
       "           [-0.2969, -0.2969, -0.2969,  ...,  0.9250,  0.9504,  0.9759],\n",
       "           [-0.2969, -0.2969, -0.2969,  ...,  0.9123,  0.9504,  0.9759],\n",
       "           ...,\n",
       "           [ 0.3395, -0.1824, -0.2715,  ...,  1.0650,  0.9377,  0.8232],\n",
       "           [-0.1315, -0.2842, -0.2078,  ...,  0.7850,  0.6068,  0.4540],\n",
       "           [-0.2206, -0.1569,  0.2631,  ...,  0.4286,  0.4922,  0.6195]]],\n",
       " \n",
       " \n",
       "         [[[-0.4242, -0.4242, -0.3860,  ..., -0.1187,  0.3777,  0.3649],\n",
       "           [-0.3733, -0.3860, -0.4115,  ..., -0.3351,  0.2249,  0.4795],\n",
       "           [-0.3733, -0.3733, -0.3860,  ..., -0.3860,  0.1613,  0.5431],\n",
       "           ...,\n",
       "           [-0.2587, -0.3606, -0.3733,  ...,  0.7850,  0.9250,  0.9123],\n",
       "           [ 0.0467,  0.7977,  0.5813,  ...,  0.1358,  0.2377, -0.0042],\n",
       "           [ 0.4031,  1.2432,  1.3068,  ..., -0.0933,  0.4795,  0.8232]],\n",
       " \n",
       "          [[ 0.2249,  0.1740,  0.2504,  ...,  0.1231,  0.7722,  0.8232],\n",
       "           [ 0.0976,  0.1358,  0.1867,  ..., -0.1824,  0.5940,  0.9123],\n",
       "           [-0.2460, -0.1951, -0.1569,  ..., -0.3097,  0.5049,  0.9632],\n",
       "           ...,\n",
       "           [-0.1315, -0.2842, -0.3351,  ...,  1.2177,  1.3323,  1.2559],\n",
       "           [ 0.2504,  0.9250,  0.6195,  ...,  0.6831,  0.7213,  0.4413],\n",
       "           [ 0.6831,  1.3705,  1.4468,  ...,  0.4286,  0.7850,  1.0904]],\n",
       " \n",
       "          [[-0.4115, -0.3606, -0.3860,  ..., -0.2842, -0.2078, -0.2206],\n",
       "           [-0.3097, -0.3097, -0.3860,  ..., -0.3224, -0.2206, -0.1315],\n",
       "           [-0.3351, -0.3478, -0.3478,  ..., -0.3351, -0.1060, -0.0296],\n",
       "           ...,\n",
       "           [-0.1315, -0.2078, -0.2333,  ...,  0.1740,  0.2886,  0.3395],\n",
       "           [ 0.1613,  0.8868,  0.6704,  ..., -0.2715, -0.2842, -0.3606],\n",
       "           [ 0.3522,  1.1795,  1.3068,  ..., -0.2969,  0.2504,  0.6959]]],\n",
       " \n",
       " \n",
       "         [[[ 2.5415,  2.1342,  2.3378,  ...,  0.7850,  0.7213,  0.6831],\n",
       "           [ 2.5160,  2.1087,  2.2869,  ...,  0.7850,  0.7213,  0.6959],\n",
       "           [ 2.5542,  2.1469,  2.3378,  ...,  0.7977,  0.7341,  0.7086],\n",
       "           ...,\n",
       "           [ 1.4723,  1.5105,  1.5232,  ...,  0.9886,  0.5049,  0.3140],\n",
       "           [ 1.4341,  1.4723,  1.5105,  ...,  1.0523,  0.9886,  0.4922],\n",
       "           [ 1.3450,  1.3959,  1.4214,  ...,  1.1032,  1.0523,  0.9504]],\n",
       " \n",
       "          [[ 2.4396,  1.7396,  2.0578,  ...,  0.5559,  0.4795,  0.4159],\n",
       "           [ 2.4015,  1.7141,  2.0069,  ...,  0.5559,  0.4795,  0.4286],\n",
       "           [ 2.4269,  1.7396,  2.0451,  ...,  0.5686,  0.4795,  0.4413],\n",
       "           ...,\n",
       "           [ 1.5105,  1.5487,  1.5487,  ...,  1.0395,  0.3649,  0.0849],\n",
       "           [ 1.4723,  1.5105,  1.5487,  ...,  1.1668,  1.0268,  0.3777],\n",
       "           [ 1.3832,  1.4341,  1.4596,  ...,  1.1795,  1.1795,  1.0268]],\n",
       " \n",
       "          [[ 2.2360,  1.1414,  1.5996,  ..., -0.0169, -0.0933, -0.1442],\n",
       "           [ 2.1723,  1.0777,  1.5232,  ..., -0.0296, -0.0933, -0.1442],\n",
       "           [ 2.1978,  1.1032,  1.5614,  ..., -0.0169, -0.1060, -0.1315],\n",
       "           ...,\n",
       "           [ 1.3959,  1.4341,  1.4468,  ...,  0.9377,  0.0849, -0.3351],\n",
       "           [ 1.3450,  1.3832,  1.4214,  ...,  1.1032,  0.9886,  0.1358],\n",
       "           [ 1.2432,  1.2941,  1.3196,  ...,  1.0650,  1.1032,  0.9377]]]]),\n",
       " tensor([[2.1073e-02, 5.4333e-02, 1.1141e-01, 2.3779e-01, 3.7146e-02, 2.1770e-01,\n",
       "          2.0490e-01, 1.2374e-02, 7.2322e-02, 3.0954e-02],\n",
       "         [9.0261e-02, 3.3609e-01, 6.9191e-03, 1.1729e-03, 1.4887e-03, 5.1684e-04,\n",
       "          4.6931e-04, 2.4759e-04, 3.7718e-01, 1.8565e-01],\n",
       "         [1.3237e-01, 2.2882e-01, 4.6171e-02, 1.1664e-02, 8.0148e-03, 8.6377e-03,\n",
       "          2.9902e-03, 2.8088e-03, 3.4809e-01, 2.1042e-01],\n",
       "         [3.1755e-01, 8.8967e-02, 5.7261e-02, 7.5980e-03, 1.3955e-02, 5.1136e-03,\n",
       "          2.0583e-03, 5.3215e-03, 4.7441e-01, 2.7763e-02],\n",
       "         [8.5598e-03, 2.7631e-03, 1.6327e-01, 1.3842e-01, 2.3295e-01, 1.3455e-01,\n",
       "          2.5117e-01, 6.3335e-02, 2.2949e-03, 2.6815e-03],\n",
       "         [1.5183e-02, 1.0870e-01, 6.4606e-02, 1.0879e-01, 9.2632e-02, 6.5995e-02,\n",
       "          3.8669e-01, 7.0574e-02, 6.9270e-03, 7.9903e-02],\n",
       "         [3.5829e-02, 2.4577e-01, 2.3603e-02, 2.0215e-01, 2.0697e-02, 1.4322e-01,\n",
       "          6.5379e-02, 4.4737e-02, 7.9412e-02, 1.3920e-01],\n",
       "         [1.4724e-02, 1.3256e-02, 2.3137e-01, 1.0135e-01, 2.0726e-01, 8.2857e-02,\n",
       "          2.5681e-01, 7.8584e-02, 5.8041e-03, 7.9817e-03],\n",
       "         [3.3406e-02, 2.9156e-03, 3.3801e-01, 1.7012e-01, 1.3677e-01, 1.7397e-01,\n",
       "          9.6629e-02, 3.1638e-02, 1.2110e-02, 4.4288e-03],\n",
       "         [1.3930e-01, 4.6031e-01, 5.5450e-02, 9.7279e-03, 8.9853e-03, 3.3500e-03,\n",
       "          2.8081e-03, 5.1858e-03, 1.3650e-01, 1.7838e-01],\n",
       "         [2.2376e-01, 1.7750e-02, 8.2910e-02, 1.0926e-01, 5.4050e-02, 9.3820e-02,\n",
       "          2.1366e-02, 4.0137e-02, 3.2867e-01, 2.8282e-02],\n",
       "         [2.9929e-02, 2.8846e-01, 1.4410e-02, 1.5996e-02, 5.2075e-03, 8.6581e-03,\n",
       "          9.0649e-03, 5.1310e-03, 1.3445e-01, 4.8869e-01],\n",
       "         [1.6909e-02, 3.6041e-02, 6.0504e-02, 1.6736e-01, 1.2179e-01, 2.2956e-01,\n",
       "          1.9933e-01, 1.3831e-01, 1.0132e-02, 2.0069e-02],\n",
       "         [5.6275e-02, 3.1990e-01, 1.6789e-02, 2.3838e-02, 4.3322e-02, 1.5837e-02,\n",
       "          2.8391e-02, 4.0727e-01, 2.1225e-02, 6.7148e-02],\n",
       "         [8.8867e-02, 4.4548e-01, 3.5790e-02, 2.7647e-02, 9.5058e-03, 8.7790e-03,\n",
       "          8.2450e-03, 5.7336e-03, 1.9251e-01, 1.7744e-01],\n",
       "         [7.0577e-02, 1.2662e-02, 1.3428e-01, 1.5593e-01, 6.0135e-02, 2.7224e-01,\n",
       "          5.4927e-02, 5.3687e-02, 1.5795e-01, 2.7598e-02],\n",
       "         [1.0722e-02, 1.0508e-01, 3.8754e-02, 2.0974e-01, 2.2748e-02, 3.3347e-01,\n",
       "          1.7146e-01, 3.0935e-02, 3.8984e-02, 3.8103e-02],\n",
       "         [7.1072e-02, 2.3764e-02, 1.3155e-01, 2.4463e-01, 8.2456e-02, 1.4311e-01,\n",
       "          1.5164e-01, 6.3392e-02, 3.1694e-02, 5.6689e-02],\n",
       "         [1.2430e-01, 1.5586e-01, 8.7970e-03, 2.3967e-03, 6.6169e-03, 1.8412e-03,\n",
       "          1.5325e-03, 4.4574e-03, 4.2197e-01, 2.7224e-01],\n",
       "         [3.6538e-03, 3.3975e-03, 9.4469e-02, 8.3473e-02, 1.9230e-01, 9.6649e-02,\n",
       "          3.4084e-01, 1.8139e-01, 6.0095e-04, 3.2349e-03],\n",
       "         [5.5979e-02, 2.0968e-02, 1.1056e-01, 4.7436e-02, 1.0322e-01, 7.4055e-02,\n",
       "          1.6197e-02, 4.9312e-01, 3.4331e-03, 7.5026e-02],\n",
       "         [3.2183e-01, 2.0074e-04, 4.1604e-01, 2.6230e-02, 5.2202e-02, 4.8595e-02,\n",
       "          3.7857e-04, 1.3331e-01, 1.0066e-03, 2.0603e-04],\n",
       "         [3.8235e-01, 9.4584e-02, 1.3654e-01, 2.4395e-02, 4.8523e-02, 1.6913e-02,\n",
       "          7.1536e-03, 1.6392e-02, 2.1911e-01, 5.4042e-02],\n",
       "         [3.4283e-02, 2.8650e-01, 2.5843e-02, 5.0381e-02, 2.2066e-02, 4.2634e-02,\n",
       "          2.4571e-02, 5.3210e-02, 7.5987e-02, 3.8452e-01],\n",
       "         [5.2012e-02, 7.6164e-04, 3.2413e-01, 2.6607e-02, 2.9162e-01, 3.8627e-02,\n",
       "          2.1009e-02, 2.4296e-01, 1.0120e-03, 1.2581e-03],\n",
       "         [1.1536e-02, 1.4131e-02, 2.3760e-01, 1.3299e-01, 1.0445e-01, 1.1770e-01,\n",
       "          3.2348e-01, 3.2882e-02, 7.1389e-03, 1.8104e-02],\n",
       "         [2.9722e-02, 2.9853e-02, 1.3310e-01, 1.1789e-01, 1.7517e-01, 8.7822e-02,\n",
       "          2.7767e-01, 1.1290e-01, 7.3535e-03, 2.8521e-02],\n",
       "         [6.5520e-02, 6.9335e-03, 2.1576e-01, 8.6315e-02, 1.2652e-01, 1.7282e-01,\n",
       "          4.7289e-02, 1.9116e-01, 1.5659e-02, 7.2016e-02],\n",
       "         [1.1321e-01, 2.7715e-01, 7.5229e-02, 6.8040e-02, 2.4082e-02, 2.1255e-02,\n",
       "          2.8622e-02, 2.5326e-02, 7.2660e-02, 2.9443e-01],\n",
       "         [1.8972e-02, 1.7582e-01, 5.0734e-02, 1.1478e-01, 8.3200e-02, 7.7040e-02,\n",
       "          2.8166e-01, 6.6820e-02, 1.5089e-02, 1.1589e-01],\n",
       "         [2.3145e-02, 3.2304e-02, 1.3052e-01, 1.2597e-01, 1.3225e-01, 1.0587e-01,\n",
       "          2.0655e-01, 1.9780e-01, 5.5220e-03, 4.0066e-02],\n",
       "         [3.0518e-02, 2.8649e-03, 2.3403e-01, 1.4137e-01, 1.6311e-01, 2.0964e-01,\n",
       "          9.2137e-02, 1.1189e-01, 6.0929e-03, 8.3487e-03],\n",
       "         [8.3825e-02, 2.0865e-02, 1.6107e-01, 1.3673e-01, 1.4859e-01, 1.9680e-01,\n",
       "          1.1540e-01, 4.1679e-02, 8.7008e-02, 8.0277e-03],\n",
       "         [1.3086e-02, 2.8415e-02, 2.4059e-01, 1.2674e-01, 1.7054e-01, 5.1400e-02,\n",
       "          2.2707e-01, 1.3203e-01, 2.2626e-03, 7.8693e-03],\n",
       "         [7.4460e-02, 9.4040e-02, 2.1697e-02, 3.1362e-02, 1.5183e-02, 2.0860e-02,\n",
       "          1.1579e-02, 3.2947e-02, 1.3192e-01, 5.6595e-01],\n",
       "         [2.3689e-02, 1.6136e-01, 7.1251e-02, 2.7381e-01, 4.8661e-02, 1.7103e-01,\n",
       "          9.4867e-02, 5.2387e-02, 4.9025e-02, 5.3916e-02],\n",
       "         [8.1733e-03, 4.7422e-03, 2.1866e-01, 1.1327e-01, 1.8921e-01, 1.1373e-01,\n",
       "          2.3353e-01, 1.0581e-01, 1.2483e-03, 1.1621e-02],\n",
       "         [6.2847e-02, 2.9883e-01, 9.3840e-03, 9.5875e-03, 2.0863e-03, 3.3466e-03,\n",
       "          2.4872e-03, 1.1519e-03, 3.9154e-01, 2.1874e-01],\n",
       "         [4.5978e-02, 3.3149e-01, 2.3276e-02, 2.4389e-02, 9.8455e-03, 9.5863e-03,\n",
       "          2.0565e-02, 1.3288e-02, 7.7474e-02, 4.4411e-01],\n",
       "         [3.5811e-02, 5.3685e-03, 1.1513e-01, 2.3645e-01, 5.0939e-02, 3.7308e-01,\n",
       "          7.9243e-02, 2.5905e-02, 7.1109e-02, 6.9600e-03],\n",
       "         [3.7395e-01, 1.8336e-01, 3.1096e-02, 6.7213e-03, 3.1618e-02, 4.5655e-03,\n",
       "          4.3767e-03, 4.0218e-02, 2.2158e-01, 1.0252e-01],\n",
       "         [1.7061e-02, 1.9787e-02, 1.1808e-01, 8.0953e-02, 1.9494e-01, 1.0233e-01,\n",
       "          2.2320e-01, 2.2051e-01, 4.1325e-03, 1.9010e-02],\n",
       "         [1.6174e-02, 1.8566e-02, 5.8980e-02, 3.0647e-01, 4.7116e-02, 1.8662e-01,\n",
       "          8.8337e-02, 2.2055e-01, 5.0192e-03, 5.2167e-02],\n",
       "         [2.3511e-02, 9.0937e-02, 9.4890e-02, 1.4726e-01, 1.0804e-01, 7.5753e-02,\n",
       "          3.4726e-01, 5.9088e-02, 1.5208e-02, 3.8046e-02],\n",
       "         [6.4958e-01, 6.7660e-02, 2.7886e-02, 1.3165e-03, 2.7912e-02, 1.0474e-03,\n",
       "          2.5755e-04, 4.1383e-02, 1.3724e-01, 4.5719e-02],\n",
       "         [1.2128e-01, 2.1303e-01, 2.1719e-02, 2.7124e-02, 8.1741e-03, 1.5975e-02,\n",
       "          5.8176e-03, 1.2973e-02, 1.9627e-01, 3.7763e-01],\n",
       "         [2.4704e-03, 1.9398e-03, 7.6271e-02, 1.7497e-01, 9.6025e-02, 2.4950e-01,\n",
       "          3.6361e-01, 2.5521e-02, 1.4562e-03, 8.2440e-03],\n",
       "         [1.2785e-01, 4.1636e-02, 2.7514e-02, 1.4353e-01, 4.0343e-02, 1.0124e-01,\n",
       "          3.6069e-02, 1.1831e-01, 2.1093e-01, 1.5258e-01],\n",
       "         [7.4218e-03, 1.1742e-03, 2.6601e-01, 4.1649e-02, 3.7153e-01, 5.3761e-02,\n",
       "          1.3737e-01, 1.1924e-01, 5.1729e-04, 1.3213e-03],\n",
       "         [7.2597e-03, 6.4419e-03, 2.2744e-01, 6.9351e-02, 2.2831e-01, 5.8082e-02,\n",
       "          3.4683e-01, 4.8294e-02, 1.4870e-03, 6.5056e-03],\n",
       "         [1.4362e-01, 1.6762e-01, 4.3184e-02, 1.7508e-02, 1.7010e-02, 8.4016e-03,\n",
       "          5.5484e-03, 2.6033e-02, 2.0415e-01, 3.6693e-01],\n",
       "         [1.3802e-01, 1.4478e-01, 7.1448e-02, 3.6260e-02, 5.9805e-02, 3.7599e-02,\n",
       "          3.6022e-02, 9.7249e-02, 1.8114e-01, 1.9768e-01],\n",
       "         [1.1405e-02, 1.5555e-01, 3.4006e-02, 1.2090e-01, 7.5621e-02, 1.2987e-01,\n",
       "          3.2803e-01, 8.1335e-02, 2.0968e-02, 4.2318e-02],\n",
       "         [9.0951e-03, 1.8079e-02, 4.6070e-02, 1.5473e-01, 6.3119e-02, 1.8364e-01,\n",
       "          2.7679e-01, 1.2804e-01, 6.3924e-03, 1.1405e-01],\n",
       "         [7.8661e-02, 2.9265e-01, 7.0947e-03, 1.7335e-03, 1.6072e-03, 9.0917e-04,\n",
       "          4.2791e-04, 2.7632e-04, 4.5350e-01, 1.6313e-01],\n",
       "         [2.4234e-01, 1.0218e-01, 7.5959e-02, 3.1677e-02, 3.8288e-02, 2.3123e-02,\n",
       "          2.1964e-02, 1.7695e-02, 3.4398e-01, 1.0279e-01],\n",
       "         [1.1967e-02, 1.6078e-04, 8.9698e-02, 1.2917e-01, 1.1613e-01, 3.3386e-01,\n",
       "          4.0149e-02, 2.7725e-01, 5.4209e-04, 1.0793e-03],\n",
       "         [4.1051e-02, 2.2817e-01, 5.1142e-02, 1.1154e-01, 4.2218e-02, 7.2319e-02,\n",
       "          1.1176e-01, 1.0356e-01, 1.1429e-01, 1.2396e-01],\n",
       "         [3.9261e-02, 4.1861e-03, 1.2675e-01, 2.1336e-01, 9.8261e-02, 2.8837e-01,\n",
       "          1.0578e-01, 6.2345e-02, 3.6523e-02, 2.5155e-02],\n",
       "         [7.1244e-02, 8.4627e-03, 2.0040e-01, 1.3185e-01, 1.6058e-01, 1.4373e-01,\n",
       "          6.5746e-02, 1.8757e-01, 1.4915e-02, 1.5509e-02],\n",
       "         [2.4700e-03, 1.3440e-04, 2.8769e-01, 3.9782e-02, 3.7763e-01, 5.2869e-02,\n",
       "          7.3338e-02, 1.6583e-01, 3.7340e-05, 2.1090e-04],\n",
       "         [5.7007e-03, 3.6681e-03, 1.4345e-01, 1.4090e-01, 1.9018e-01, 1.3922e-01,\n",
       "          3.0540e-01, 6.5837e-02, 9.2410e-04, 4.7127e-03],\n",
       "         [3.8192e-02, 1.6103e-01, 2.8836e-02, 7.6051e-02, 9.2727e-02, 5.3983e-02,\n",
       "          1.0718e-01, 3.8974e-01, 1.0265e-02, 4.1997e-02],\n",
       "         [6.2426e-02, 9.3494e-02, 8.0788e-02, 5.1610e-02, 5.3109e-02, 5.8195e-02,\n",
       "          3.1468e-02, 2.4720e-01, 2.4924e-02, 2.9679e-01]])]"
      ]
     },
     "execution_count": 86,
     "metadata": {},
     "output_type": "execute_result"
    }
   ],
   "source": [
    "class StudentData(Dataset):\n",
    "    def __init__(self, dataset, targets):\n",
    "        \n",
    "        self.dataset = dataset\n",
    "        self.targets = targets\n",
    "        self.indices = dataset.indices\n",
    "            \n",
    "    def __getitem__(self, index):\n",
    "        if isinstance(index, list):\n",
    "            data, _ = self.dataset[[i for i in index]]\n",
    "            target = self.targets[[self.indices[i] for i in index]]\n",
    "        else:\n",
    "            data, _ = self.dataset[index]\n",
    "            target = self.targets[self.indices[index]]\n",
    "            \n",
    "        return data, target\n",
    "        \n",
    "    \n",
    "    def __len__(self):\n",
    "        \"\"\"Total number of samples\"\"\"\n",
    "        return len(self.indices)\n",
    "\n",
    "student_data = StudentData(public_data, student_targets)\n",
    "student_data_loader = DataLoader(student_data, public_batch_size)\n",
    "data_iter = iter(student_data_loader)\n",
    "next(data_iter)"
   ]
  },
  {
   "cell_type": "code",
   "execution_count": 87,
   "id": "329b1791",
   "metadata": {},
   "outputs": [
    {
     "name": "stderr",
     "output_type": "stream",
     "text": [
      "/home/oscar/ml_env/lib/python3.8/site-packages/torch/nn/modules/loss.py:520: UserWarning: Using a target size (torch.Size([64])) that is different to the input size (torch.Size([64, 10])). This will likely lead to incorrect results due to broadcasting. Please ensure they have the same size.\n",
      "  return F.mse_loss(input, target, reduction=self.reduction)\n"
     ]
    },
    {
     "ename": "RuntimeError",
     "evalue": "The size of tensor a (10) must match the size of tensor b (64) at non-singleton dimension 1",
     "output_type": "error",
     "traceback": [
      "\u001b[0;31m---------------------------------------------------------------------------\u001b[0m",
      "\u001b[0;31mRuntimeError\u001b[0m                              Traceback (most recent call last)",
      "Input \u001b[0;32mIn [87]\u001b[0m, in \u001b[0;36m<module>\u001b[0;34m\u001b[0m\n\u001b[1;32m     16\u001b[0m         error\u001b[38;5;241m.\u001b[39mbackward()\n\u001b[1;32m     17\u001b[0m         optimizer\u001b[38;5;241m.\u001b[39mstep()\n\u001b[0;32m---> 19\u001b[0m     train_acc, train_loss \u001b[38;5;241m=\u001b[39m \u001b[43mevaluate\u001b[49m\u001b[43m(\u001b[49m\u001b[43mmodel\u001b[49m\u001b[43m,\u001b[49m\u001b[43m \u001b[49m\u001b[43mpublic_data_loader\u001b[49m\u001b[43m,\u001b[49m\u001b[43m \u001b[49m\u001b[43mloss_function\u001b[49m\u001b[43m)\u001b[49m\n\u001b[1;32m     20\u001b[0m     \u001b[38;5;28mprint\u001b[39m(\u001b[38;5;124mf\u001b[39m\u001b[38;5;124m\"\u001b[39m\u001b[38;5;124mEpoch \u001b[39m\u001b[38;5;132;01m{\u001b[39;00mepoch\u001b[38;5;241m+\u001b[39m\u001b[38;5;241m1\u001b[39m\u001b[38;5;132;01m}\u001b[39;00m\u001b[38;5;124m/\u001b[39m\u001b[38;5;132;01m{\u001b[39;00mn_epochs_student\u001b[38;5;132;01m}\u001b[39;00m\u001b[38;5;124m: \u001b[39m\u001b[38;5;124m\"\u001b[39m\n\u001b[1;32m     21\u001b[0m           \u001b[38;5;124mf\u001b[39m\u001b[38;5;124m\"\u001b[39m\u001b[38;5;124mTrain accuracy: \u001b[39m\u001b[38;5;132;01m{\u001b[39;00mtrain_acc\u001b[38;5;132;01m:\u001b[39;00m\u001b[38;5;124m.2f\u001b[39m\u001b[38;5;132;01m}\u001b[39;00m\u001b[38;5;124m: \u001b[39m\u001b[38;5;124m\"\u001b[39m\n\u001b[1;32m     22\u001b[0m           \u001b[38;5;124mf\u001b[39m\u001b[38;5;124m\"\u001b[39m\u001b[38;5;124mTrain loss: \u001b[39m\u001b[38;5;132;01m{\u001b[39;00mtrain_loss\u001b[38;5;132;01m:\u001b[39;00m\u001b[38;5;124m.3f\u001b[39m\u001b[38;5;132;01m}\u001b[39;00m\u001b[38;5;124m\"\u001b[39m, end\u001b[38;5;241m=\u001b[39m\u001b[38;5;124m\"\u001b[39m\u001b[38;5;130;01m\\r\u001b[39;00m\u001b[38;5;124m\"\u001b[39m)\n\u001b[1;32m     23\u001b[0m \u001b[38;5;28mprint\u001b[39m(\u001b[38;5;124m\"\u001b[39m\u001b[38;5;130;01m\\n\u001b[39;00m\u001b[38;5;124m\"\u001b[39m)\n",
      "Input \u001b[0;32mIn [84]\u001b[0m, in \u001b[0;36mevaluate\u001b[0;34m(model, data_loader, loss_function)\u001b[0m\n\u001b[1;32m      6\u001b[0m \u001b[38;5;28;01mfor\u001b[39;00m x, y \u001b[38;5;129;01min\u001b[39;00m data_loader:\n\u001b[1;32m      7\u001b[0m     output \u001b[38;5;241m=\u001b[39m model(x)\n\u001b[0;32m----> 8\u001b[0m     error \u001b[38;5;241m=\u001b[39m \u001b[43mloss_function\u001b[49m\u001b[43m(\u001b[49m\u001b[43moutput\u001b[49m\u001b[43m,\u001b[49m\u001b[43m \u001b[49m\u001b[43my\u001b[49m\u001b[43m)\u001b[49m\n\u001b[1;32m      9\u001b[0m     loss\u001b[38;5;241m.\u001b[39mappend(error\u001b[38;5;241m.\u001b[39mitem())\n\u001b[1;32m     10\u001b[0m     _, pred \u001b[38;5;241m=\u001b[39m torch\u001b[38;5;241m.\u001b[39mmax(output\u001b[38;5;241m.\u001b[39mdata, \u001b[38;5;241m1\u001b[39m)\n",
      "File \u001b[0;32m~/ml_env/lib/python3.8/site-packages/torch/nn/modules/module.py:1102\u001b[0m, in \u001b[0;36mModule._call_impl\u001b[0;34m(self, *input, **kwargs)\u001b[0m\n\u001b[1;32m   1098\u001b[0m \u001b[38;5;66;03m# If we don't have any hooks, we want to skip the rest of the logic in\u001b[39;00m\n\u001b[1;32m   1099\u001b[0m \u001b[38;5;66;03m# this function, and just call forward.\u001b[39;00m\n\u001b[1;32m   1100\u001b[0m \u001b[38;5;28;01mif\u001b[39;00m \u001b[38;5;129;01mnot\u001b[39;00m (\u001b[38;5;28mself\u001b[39m\u001b[38;5;241m.\u001b[39m_backward_hooks \u001b[38;5;129;01mor\u001b[39;00m \u001b[38;5;28mself\u001b[39m\u001b[38;5;241m.\u001b[39m_forward_hooks \u001b[38;5;129;01mor\u001b[39;00m \u001b[38;5;28mself\u001b[39m\u001b[38;5;241m.\u001b[39m_forward_pre_hooks \u001b[38;5;129;01mor\u001b[39;00m _global_backward_hooks\n\u001b[1;32m   1101\u001b[0m         \u001b[38;5;129;01mor\u001b[39;00m _global_forward_hooks \u001b[38;5;129;01mor\u001b[39;00m _global_forward_pre_hooks):\n\u001b[0;32m-> 1102\u001b[0m     \u001b[38;5;28;01mreturn\u001b[39;00m \u001b[43mforward_call\u001b[49m\u001b[43m(\u001b[49m\u001b[38;5;241;43m*\u001b[39;49m\u001b[38;5;28;43minput\u001b[39;49m\u001b[43m,\u001b[49m\u001b[43m \u001b[49m\u001b[38;5;241;43m*\u001b[39;49m\u001b[38;5;241;43m*\u001b[39;49m\u001b[43mkwargs\u001b[49m\u001b[43m)\u001b[49m\n\u001b[1;32m   1103\u001b[0m \u001b[38;5;66;03m# Do not call functions when jit is used\u001b[39;00m\n\u001b[1;32m   1104\u001b[0m full_backward_hooks, non_full_backward_hooks \u001b[38;5;241m=\u001b[39m [], []\n",
      "File \u001b[0;32m~/ml_env/lib/python3.8/site-packages/torch/nn/modules/loss.py:520\u001b[0m, in \u001b[0;36mMSELoss.forward\u001b[0;34m(self, input, target)\u001b[0m\n\u001b[1;32m    519\u001b[0m \u001b[38;5;28;01mdef\u001b[39;00m \u001b[38;5;21mforward\u001b[39m(\u001b[38;5;28mself\u001b[39m, \u001b[38;5;28minput\u001b[39m: Tensor, target: Tensor) \u001b[38;5;241m-\u001b[39m\u001b[38;5;241m>\u001b[39m Tensor:\n\u001b[0;32m--> 520\u001b[0m     \u001b[38;5;28;01mreturn\u001b[39;00m \u001b[43mF\u001b[49m\u001b[38;5;241;43m.\u001b[39;49m\u001b[43mmse_loss\u001b[49m\u001b[43m(\u001b[49m\u001b[38;5;28;43minput\u001b[39;49m\u001b[43m,\u001b[49m\u001b[43m \u001b[49m\u001b[43mtarget\u001b[49m\u001b[43m,\u001b[49m\u001b[43m \u001b[49m\u001b[43mreduction\u001b[49m\u001b[38;5;241;43m=\u001b[39;49m\u001b[38;5;28;43mself\u001b[39;49m\u001b[38;5;241;43m.\u001b[39;49m\u001b[43mreduction\u001b[49m\u001b[43m)\u001b[49m\n",
      "File \u001b[0;32m~/ml_env/lib/python3.8/site-packages/torch/nn/functional.py:3111\u001b[0m, in \u001b[0;36mmse_loss\u001b[0;34m(input, target, size_average, reduce, reduction)\u001b[0m\n\u001b[1;32m   3108\u001b[0m \u001b[38;5;28;01mif\u001b[39;00m size_average \u001b[38;5;129;01mis\u001b[39;00m \u001b[38;5;129;01mnot\u001b[39;00m \u001b[38;5;28;01mNone\u001b[39;00m \u001b[38;5;129;01mor\u001b[39;00m reduce \u001b[38;5;129;01mis\u001b[39;00m \u001b[38;5;129;01mnot\u001b[39;00m \u001b[38;5;28;01mNone\u001b[39;00m:\n\u001b[1;32m   3109\u001b[0m     reduction \u001b[38;5;241m=\u001b[39m _Reduction\u001b[38;5;241m.\u001b[39mlegacy_get_string(size_average, reduce)\n\u001b[0;32m-> 3111\u001b[0m expanded_input, expanded_target \u001b[38;5;241m=\u001b[39m \u001b[43mtorch\u001b[49m\u001b[38;5;241;43m.\u001b[39;49m\u001b[43mbroadcast_tensors\u001b[49m\u001b[43m(\u001b[49m\u001b[38;5;28;43minput\u001b[39;49m\u001b[43m,\u001b[49m\u001b[43m \u001b[49m\u001b[43mtarget\u001b[49m\u001b[43m)\u001b[49m\n\u001b[1;32m   3112\u001b[0m \u001b[38;5;28;01mreturn\u001b[39;00m torch\u001b[38;5;241m.\u001b[39m_C\u001b[38;5;241m.\u001b[39m_nn\u001b[38;5;241m.\u001b[39mmse_loss(expanded_input, expanded_target, _Reduction\u001b[38;5;241m.\u001b[39mget_enum(reduction))\n",
      "File \u001b[0;32m~/ml_env/lib/python3.8/site-packages/torch/functional.py:72\u001b[0m, in \u001b[0;36mbroadcast_tensors\u001b[0;34m(*tensors)\u001b[0m\n\u001b[1;32m     70\u001b[0m \u001b[38;5;28;01mif\u001b[39;00m has_torch_function(tensors):\n\u001b[1;32m     71\u001b[0m     \u001b[38;5;28;01mreturn\u001b[39;00m handle_torch_function(broadcast_tensors, tensors, \u001b[38;5;241m*\u001b[39mtensors)\n\u001b[0;32m---> 72\u001b[0m \u001b[38;5;28;01mreturn\u001b[39;00m \u001b[43m_VF\u001b[49m\u001b[38;5;241;43m.\u001b[39;49m\u001b[43mbroadcast_tensors\u001b[49m\u001b[43m(\u001b[49m\u001b[43mtensors\u001b[49m\u001b[43m)\u001b[49m\n",
      "\u001b[0;31mRuntimeError\u001b[0m: The size of tensor a (10) must match the size of tensor b (64) at non-singleton dimension 1"
     ]
    }
   ],
   "source": [
    "model = Cifar10_Student()\n",
    "loss_function = nn.MSELoss()\n",
    "optimizer = optim.SGD(model.parameters(), lr=0.001, momentum=0.9)\n",
    "\n",
    "n_epochs_student = 50\n",
    "\n",
    "model.train()\n",
    "for epoch in range(n_epochs_student):\n",
    "    train_loss = []\n",
    "    correct = 0\n",
    "    model.train()\n",
    "    for x, y in student_data_loader:\n",
    "        optimizer.zero_grad()\n",
    "        output = model(x)\n",
    "        error = loss_function(output, y)\n",
    "        error.backward()\n",
    "        optimizer.step()\n",
    "        \n",
    "    train_acc, train_loss = evaluate(model, public_data_loader, loss_function)\n",
    "    print(f\"Epoch {epoch+1}/{n_epochs_student}: \"\n",
    "          f\"Train accuracy: {train_acc:.2f}: \"\n",
    "          f\"Train loss: {train_loss:.3f}\", end=\"\\r\")\n",
    "print(\"\\n\")\n",
    "    "
   ]
  },
  {
   "cell_type": "code",
   "execution_count": 81,
   "id": "f32c5544",
   "metadata": {},
   "outputs": [
    {
     "name": "stdout",
     "output_type": "stream",
     "text": [
      "Accuracy:  0.14\n"
     ]
    }
   ],
   "source": [
    "correct = 0\n",
    "total = 0\n",
    "\n",
    "with torch.no_grad():\n",
    "     for x, y in test_data_loader:\n",
    "            output = model(x)\n",
    "            for idx, i in enumerate(output):\n",
    "                if torch.argmax(i) == y[idx]:\n",
    "                    correct += 1\n",
    "                total +=1\n",
    "                \n",
    "print(\"Accuracy: \", round(correct/total, 3))"
   ]
  },
  {
   "cell_type": "code",
   "execution_count": 25,
   "id": "6f616dff",
   "metadata": {},
   "outputs": [],
   "source": [
    "alg = \"fedavg+feded\"\n",
    "algs = alg.split(\"+\")\n",
    "ens = [\"fede\"]"
   ]
  },
  {
   "cell_type": "code",
   "execution_count": 27,
   "id": "a6977e19",
   "metadata": {},
   "outputs": [],
   "source": [
    "any(alg in algs for alg in ens)"
   ]
  },
  {
   "cell_type": "code",
   "execution_count": 28,
   "id": "9d1d9c84",
   "metadata": {},
   "outputs": [
    {
     "data": {
      "text/plain": [
       "False"
      ]
     },
     "execution_count": 28,
     "metadata": {},
     "output_type": "execute_result"
    }
   ],
   "source": [
    "b"
   ]
  },
  {
   "cell_type": "code",
   "execution_count": 57,
   "id": "4983b2eb",
   "metadata": {},
   "outputs": [
    {
     "data": {
      "text/plain": [
       "<torch.utils.data.dataloader.DataLoader at 0x7fe9e18530d0>"
      ]
     },
     "execution_count": 57,
     "metadata": {},
     "output_type": "execute_result"
    }
   ],
   "source": [
    "client_data_loaders[0]"
   ]
  },
  {
   "cell_type": "code",
   "execution_count": null,
   "id": "b6713f40",
   "metadata": {},
   "outputs": [],
   "source": []
  }
 ],
 "metadata": {
  "kernelspec": {
   "display_name": "Python 3 (ipykernel)",
   "language": "python",
   "name": "python3"
  },
  "language_info": {
   "codemirror_mode": {
    "name": "ipython",
    "version": 3
   },
   "file_extension": ".py",
   "mimetype": "text/x-python",
   "name": "python",
   "nbconvert_exporter": "python",
   "pygments_lexer": "ipython3",
   "version": "3.8.10"
  }
 },
 "nbformat": 4,
 "nbformat_minor": 5
}
